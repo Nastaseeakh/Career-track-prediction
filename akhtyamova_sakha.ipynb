{
 "cells": [
  {
   "cell_type": "markdown",
   "metadata": {
    "id": "qb_ajqWXuguV"
   },
   "source": [
    "## Загрузим нужные библиотеки"
   ]
  },
  {
   "cell_type": "code",
   "execution_count": 1,
   "metadata": {
    "id": "MTgpe_1quUDs"
   },
   "outputs": [],
   "source": [
    "import pandas as pd\n",
    "import seaborn as sns\n",
    "import matplotlib.pyplot as plt\n",
    "from sklearn.model_selection import train_test_split\n",
    "import catboost as cb\n",
    "from catboost import cv\n",
    "from catboost import CatBoostClassifier\n",
    "from sklearn.metrics import classification_report\n",
    "from sklearn.metrics import f1_score, recall_score\n",
    "from nltk.tokenize import word_tokenize\n",
    "from nltk.corpus import stopwords\n",
    "from nltk.stem import SnowballStemmer\n",
    "import numpy as np\n",
    "\n",
    "%matplotlib inline"
   ]
  },
  {
   "cell_type": "code",
   "execution_count": 2,
   "metadata": {
    "id": "o9N4JbcWudk2"
   },
   "outputs": [
    {
     "data": {
      "text/html": [
       "<div>\n",
       "<style scoped>\n",
       "    .dataframe tbody tr th:only-of-type {\n",
       "        vertical-align: middle;\n",
       "    }\n",
       "\n",
       "    .dataframe tbody tr th {\n",
       "        vertical-align: top;\n",
       "    }\n",
       "\n",
       "    .dataframe thead th {\n",
       "        text-align: right;\n",
       "    }\n",
       "</style>\n",
       "<table border=\"1\" class=\"dataframe\">\n",
       "  <thead>\n",
       "    <tr style=\"text-align: right;\">\n",
       "      <th></th>\n",
       "      <th>id</th>\n",
       "      <th>type</th>\n",
       "    </tr>\n",
       "  </thead>\n",
       "  <tbody>\n",
       "    <tr>\n",
       "      <th>0</th>\n",
       "      <td>ОРГ1-02050</td>\n",
       "      <td>2</td>\n",
       "    </tr>\n",
       "    <tr>\n",
       "      <th>1</th>\n",
       "      <td>ОРГ1-02783</td>\n",
       "      <td>2</td>\n",
       "    </tr>\n",
       "    <tr>\n",
       "      <th>2</th>\n",
       "      <td>ОРГ2-06173</td>\n",
       "      <td>0</td>\n",
       "    </tr>\n",
       "  </tbody>\n",
       "</table>\n",
       "</div>"
      ],
      "text/plain": [
       "           id  type\n",
       "0  ОРГ1-02050     2\n",
       "1  ОРГ1-02783     2\n",
       "2  ОРГ2-06173     0"
      ]
     },
     "execution_count": 2,
     "metadata": {},
     "output_type": "execute_result"
    }
   ],
   "source": [
    "train_df = pd.read_csv(\"train_dataset_train.csv\")\n",
    "train_df.head(3)"
   ]
  },
  {
   "cell_type": "code",
   "execution_count": 3,
   "metadata": {},
   "outputs": [
    {
     "data": {
      "text/plain": [
       "550"
      ]
     },
     "execution_count": 3,
     "metadata": {},
     "output_type": "execute_result"
    }
   ],
   "source": [
    "# всего сотрудников\n",
    "train_df.id.nunique()"
   ]
  },
  {
   "cell_type": "markdown",
   "metadata": {
    "id": "GgCS5B_PutbW"
   },
   "source": [
    "## Посмотрим на признаки"
   ]
  },
  {
   "cell_type": "markdown",
   "metadata": {},
   "source": [
    "#### Образование"
   ]
  },
  {
   "cell_type": "code",
   "execution_count": 4,
   "metadata": {
    "colab": {
     "base_uri": "https://localhost:8080/",
     "height": 306
    },
    "id": "qEvfySMMutBR",
    "outputId": "4dfb8e9e-8953-4111-d155-30994b74e6b2"
   },
   "outputs": [
    {
     "data": {
      "text/html": [
       "<div>\n",
       "<style scoped>\n",
       "    .dataframe tbody tr th:only-of-type {\n",
       "        vertical-align: middle;\n",
       "    }\n",
       "\n",
       "    .dataframe tbody tr th {\n",
       "        vertical-align: top;\n",
       "    }\n",
       "\n",
       "    .dataframe thead th {\n",
       "        text-align: right;\n",
       "    }\n",
       "</style>\n",
       "<table border=\"1\" class=\"dataframe\">\n",
       "  <thead>\n",
       "    <tr style=\"text-align: right;\">\n",
       "      <th></th>\n",
       "      <th>Табельный номер руководителя</th>\n",
       "      <th>id</th>\n",
       "      <th>Вид образования</th>\n",
       "      <th>Специальность</th>\n",
       "    </tr>\n",
       "  </thead>\n",
       "  <tbody>\n",
       "    <tr>\n",
       "      <th>0</th>\n",
       "      <td>NaN</td>\n",
       "      <td>ОРГ1-00131</td>\n",
       "      <td>Высшее образование - бакалавриат</td>\n",
       "      <td>Юриспруденция</td>\n",
       "    </tr>\n",
       "    <tr>\n",
       "      <th>1</th>\n",
       "      <td>NaN</td>\n",
       "      <td>ОРГ1-03220</td>\n",
       "      <td>Среднее профессиональное образование</td>\n",
       "      <td>Финансы</td>\n",
       "    </tr>\n",
       "    <tr>\n",
       "      <th>2</th>\n",
       "      <td>NaN</td>\n",
       "      <td>ОРГ1-03008</td>\n",
       "      <td>Высшее образование</td>\n",
       "      <td>Юриспруденция</td>\n",
       "    </tr>\n",
       "  </tbody>\n",
       "</table>\n",
       "</div>"
      ],
      "text/plain": [
       "  Табельный номер руководителя          id  \\\n",
       "0                          NaN  ОРГ1-00131   \n",
       "1                          NaN  ОРГ1-03220   \n",
       "2                          NaN  ОРГ1-03008   \n",
       "\n",
       "                        Вид образования  Специальность  \n",
       "0      Высшее образование - бакалавриат  Юриспруденция  \n",
       "1  Среднее профессиональное образование        Финансы  \n",
       "2                    Высшее образование  Юриспруденция  "
      ]
     },
     "execution_count": 4,
     "metadata": {},
     "output_type": "execute_result"
    }
   ],
   "source": [
    "edu = pd.read_csv('Education.csv')\n",
    "edu = edu.drop_duplicates()\n",
    "edu.head(3)"
   ]
  },
  {
   "cell_type": "code",
   "execution_count": 5,
   "metadata": {},
   "outputs": [
    {
     "data": {
      "text/plain": [
       "Табельный номер руководителя     152\n",
       "id                              4788\n",
       "Вид_образования                   16\n",
       "Специальность                   1082\n",
       "dtype: int64"
      ]
     },
     "execution_count": 5,
     "metadata": {},
     "output_type": "execute_result"
    }
   ],
   "source": [
    "edu.rename(columns={'Вид образования': 'Вид_образования'}, inplace=True)\n",
    "edu.nunique()"
   ]
  },
  {
   "cell_type": "code",
   "execution_count": 6,
   "metadata": {},
   "outputs": [
    {
     "data": {
      "text/plain": [
       "Высшее образование                                1437\n",
       "Среднее профессиональное образование              1009\n",
       "Среднее общее образование                          620\n",
       "Начальное профессиональное образование             572\n",
       "Профессиональное обучение                          497\n",
       "Высшее образование - бакалавриат                   365\n",
       "Высшее образование - специалитет, магистратура     327\n",
       "Повышение квалификации                             297\n",
       "Среднее (полное) общее образование                 111\n",
       "NaN                                                 98\n",
       "Основное общее образование                          66\n",
       "Переподготовка                                      52\n",
       "Дополнительное профессиональное образование         23\n",
       "Неполное высшее образование                         21\n",
       "Начальное общее образование                          6\n",
       "Аспирантура                                          6\n",
       "Послевузовское образование                           2\n",
       "Name: Вид_образования, dtype: int64"
      ]
     },
     "execution_count": 6,
     "metadata": {},
     "output_type": "execute_result"
    }
   ],
   "source": [
    "edu['Вид_образования'].value_counts(dropna=False)"
   ]
  },
  {
   "cell_type": "code",
   "execution_count": 7,
   "metadata": {},
   "outputs": [
    {
     "data": {
      "text/plain": [
       "0"
      ]
     },
     "execution_count": 7,
     "metadata": {},
     "output_type": "execute_result"
    }
   ],
   "source": [
    "v = edu.groupby('id') \\\n",
    "    .agg({'Табельный номер руководителя': ['count', pd.Series.nunique]})\n",
    "(v['Табельный номер руководителя']['nunique'] > 1).sum()"
   ]
  },
  {
   "cell_type": "code",
   "execution_count": 8,
   "metadata": {},
   "outputs": [],
   "source": [
    "comp = ('Переподготовка', 'Повышение квалификации', 'Послевузовское образование')\n",
    "edu_comp = edu.query(\"Вид_образования in @comp\")"
   ]
  },
  {
   "cell_type": "code",
   "execution_count": 9,
   "metadata": {},
   "outputs": [
    {
     "data": {
      "text/html": [
       "<div>\n",
       "<style scoped>\n",
       "    .dataframe tbody tr th:only-of-type {\n",
       "        vertical-align: middle;\n",
       "    }\n",
       "\n",
       "    .dataframe tbody tr th {\n",
       "        vertical-align: top;\n",
       "    }\n",
       "\n",
       "    .dataframe thead th {\n",
       "        text-align: right;\n",
       "    }\n",
       "</style>\n",
       "<table border=\"1\" class=\"dataframe\">\n",
       "  <thead>\n",
       "    <tr style=\"text-align: right;\">\n",
       "      <th></th>\n",
       "      <th>words</th>\n",
       "      <th>0</th>\n",
       "    </tr>\n",
       "  </thead>\n",
       "  <tbody>\n",
       "    <tr>\n",
       "      <th>0</th>\n",
       "      <td>и</td>\n",
       "      <td>2157</td>\n",
       "    </tr>\n",
       "    <tr>\n",
       "      <th>1</th>\n",
       "      <td></td>\n",
       "      <td>833</td>\n",
       "    </tr>\n",
       "    <tr>\n",
       "      <th>2</th>\n",
       "      <td>nan</td>\n",
       "      <td>663</td>\n",
       "    </tr>\n",
       "    <tr>\n",
       "      <th>6</th>\n",
       "      <td>по</td>\n",
       "      <td>358</td>\n",
       "    </tr>\n",
       "    <tr>\n",
       "      <th>8</th>\n",
       "      <td>на</td>\n",
       "      <td>288</td>\n",
       "    </tr>\n",
       "    <tr>\n",
       "      <th>...</th>\n",
       "      <td>...</td>\n",
       "      <td>...</td>\n",
       "    </tr>\n",
       "    <tr>\n",
       "      <th>1459</th>\n",
       "      <td>си</td>\n",
       "      <td>1</td>\n",
       "    </tr>\n",
       "    <tr>\n",
       "      <th>1476</th>\n",
       "      <td>рк</td>\n",
       "      <td>1</td>\n",
       "    </tr>\n",
       "    <tr>\n",
       "      <th>1491</th>\n",
       "      <td>ж/д</td>\n",
       "      <td>1</td>\n",
       "    </tr>\n",
       "    <tr>\n",
       "      <th>1512</th>\n",
       "      <td>ии</td>\n",
       "      <td>1</td>\n",
       "    </tr>\n",
       "    <tr>\n",
       "      <th>1553</th>\n",
       "      <td>за</td>\n",
       "      <td>1</td>\n",
       "    </tr>\n",
       "  </tbody>\n",
       "</table>\n",
       "<p>82 rows × 2 columns</p>\n",
       "</div>"
      ],
      "text/plain": [
       "     words     0\n",
       "0        и  2157\n",
       "1            833\n",
       "2      nan   663\n",
       "6       по   358\n",
       "8       на   288\n",
       "...    ...   ...\n",
       "1459    си     1\n",
       "1476    рк     1\n",
       "1491   ж/д     1\n",
       "1512    ии     1\n",
       "1553    за     1\n",
       "\n",
       "[82 rows x 2 columns]"
      ]
     },
     "execution_count": 9,
     "metadata": {},
     "output_type": "execute_result"
    }
   ],
   "source": [
    "edu_list = []\n",
    "for l in edu['Специальность'].apply(lambda x: word_tokenize(str(x), language='russian')).values:\n",
    "    edu_list.extend([word.strip('\"./,()').lower() for word in l])\n",
    "words = pd.DataFrame(data=edu_list, columns=['words']).value_counts().to_frame().reset_index()\n",
    "words_to_stop = words.query(\"words.str.len() <= 3\")\n",
    "words_to_stop"
   ]
  },
  {
   "cell_type": "code",
   "execution_count": 10,
   "metadata": {},
   "outputs": [],
   "source": [
    "# определим служебные слова и сокращения, которые не добавляют смысловой нагрузки\n",
    "stops = stopwords.words(\"russian\")\n",
    "stops.extend(list(set(words_to_stop.words.values) - set(['ж/д', 'c/x', 'эвм', 'c-x'])))"
   ]
  },
  {
   "cell_type": "code",
   "execution_count": 11,
   "metadata": {},
   "outputs": [],
   "source": [
    "# Функция, фильтрующая стоп-слова и оставляющая только основу слов\n",
    "def stem_filter_words(row):\n",
    "    snowball = SnowballStemmer(language=\"russian\")\n",
    "    filtered_stemmed_row = []\n",
    "    for token in row:\n",
    "        if token.lower() not in stops and token.isalpha():\n",
    "            filtered_stemmed_row.append(snowball.stem(token))\n",
    "    return filtered_stemmed_row\n",
    "\n",
    "edu['Специальность'] = edu['Специальность'].apply(lambda x: word_tokenize(str(x), language='russian')) \\\n",
    "                                            .apply(stem_filter_words)"
   ]
  },
  {
   "cell_type": "code",
   "execution_count": 12,
   "metadata": {},
   "outputs": [
    {
     "data": {
      "text/html": [
       "<div>\n",
       "<style scoped>\n",
       "    .dataframe tbody tr th:only-of-type {\n",
       "        vertical-align: middle;\n",
       "    }\n",
       "\n",
       "    .dataframe tbody tr th {\n",
       "        vertical-align: top;\n",
       "    }\n",
       "\n",
       "    .dataframe thead th {\n",
       "        text-align: right;\n",
       "    }\n",
       "</style>\n",
       "<table border=\"1\" class=\"dataframe\">\n",
       "  <thead>\n",
       "    <tr style=\"text-align: right;\">\n",
       "      <th></th>\n",
       "      <th>Табельный номер руководителя</th>\n",
       "      <th>id</th>\n",
       "      <th>Вид_образования</th>\n",
       "      <th>Специальность</th>\n",
       "    </tr>\n",
       "  </thead>\n",
       "  <tbody>\n",
       "    <tr>\n",
       "      <th>0</th>\n",
       "      <td>NaN</td>\n",
       "      <td>ОРГ1-00131</td>\n",
       "      <td>[высш, образован, бакалавриат]</td>\n",
       "      <td>[юриспруденц]</td>\n",
       "    </tr>\n",
       "    <tr>\n",
       "      <th>1</th>\n",
       "      <td>NaN</td>\n",
       "      <td>ОРГ1-03220</td>\n",
       "      <td>[средн, профессиональн, образован]</td>\n",
       "      <td>[финанс]</td>\n",
       "    </tr>\n",
       "    <tr>\n",
       "      <th>2</th>\n",
       "      <td>NaN</td>\n",
       "      <td>ОРГ1-03008</td>\n",
       "      <td>[высш, образован]</td>\n",
       "      <td>[юриспруденц]</td>\n",
       "    </tr>\n",
       "    <tr>\n",
       "      <th>3</th>\n",
       "      <td>NaN</td>\n",
       "      <td>ОРГ1-00922</td>\n",
       "      <td>[высш, образован, бакалавриат]</td>\n",
       "      <td>[бакалавр, техническ, наук]</td>\n",
       "    </tr>\n",
       "    <tr>\n",
       "      <th>4</th>\n",
       "      <td>NaN</td>\n",
       "      <td>ОРГ1-00922</td>\n",
       "      <td>[высш, образован]</td>\n",
       "      <td>[машин, аппарат, химическ, производств, предпр...</td>\n",
       "    </tr>\n",
       "  </tbody>\n",
       "</table>\n",
       "</div>"
      ],
      "text/plain": [
       "  Табельный номер руководителя          id  \\\n",
       "0                          NaN  ОРГ1-00131   \n",
       "1                          NaN  ОРГ1-03220   \n",
       "2                          NaN  ОРГ1-03008   \n",
       "3                          NaN  ОРГ1-00922   \n",
       "4                          NaN  ОРГ1-00922   \n",
       "\n",
       "                      Вид_образования  \\\n",
       "0      [высш, образован, бакалавриат]   \n",
       "1  [средн, профессиональн, образован]   \n",
       "2                   [высш, образован]   \n",
       "3      [высш, образован, бакалавриат]   \n",
       "4                   [высш, образован]   \n",
       "\n",
       "                                       Специальность  \n",
       "0                                      [юриспруденц]  \n",
       "1                                           [финанс]  \n",
       "2                                      [юриспруденц]  \n",
       "3                        [бакалавр, техническ, наук]  \n",
       "4  [машин, аппарат, химическ, производств, предпр...  "
      ]
     },
     "execution_count": 12,
     "metadata": {},
     "output_type": "execute_result"
    }
   ],
   "source": [
    "edu['Вид_образования'] = edu['Вид_образования'].apply(lambda x: word_tokenize(str(x), language='russian')) \\\n",
    "                                            .apply(stem_filter_words)\n",
    "edu.head()"
   ]
  },
  {
   "cell_type": "code",
   "execution_count": 13,
   "metadata": {},
   "outputs": [],
   "source": [
    "edu = edu.groupby(['id'], as_index=False).agg({'Вид_образования': 'sum', 'Специальность': 'sum', 'Табельный номер руководителя': 'count'})"
   ]
  },
  {
   "cell_type": "code",
   "execution_count": 14,
   "metadata": {},
   "outputs": [],
   "source": [
    "edu['Вид_образования'] = edu['Вид_образования'].apply(lambda x: ' '.join(list(set(x))))\n",
    "edu['Специальность'] = edu['Специальность'].apply(lambda x: ' '.join(list(set(x))))"
   ]
  },
  {
   "cell_type": "code",
   "execution_count": 15,
   "metadata": {},
   "outputs": [],
   "source": [
    "edu['Повышение_квалификации'] = edu.id.apply(lambda x: 1 if x in edu_comp.id.values else 0)"
   ]
  },
  {
   "cell_type": "code",
   "execution_count": 16,
   "metadata": {},
   "outputs": [
    {
     "data": {
      "text/html": [
       "<div>\n",
       "<style scoped>\n",
       "    .dataframe tbody tr th:only-of-type {\n",
       "        vertical-align: middle;\n",
       "    }\n",
       "\n",
       "    .dataframe tbody tr th {\n",
       "        vertical-align: top;\n",
       "    }\n",
       "\n",
       "    .dataframe thead th {\n",
       "        text-align: right;\n",
       "    }\n",
       "</style>\n",
       "<table border=\"1\" class=\"dataframe\">\n",
       "  <thead>\n",
       "    <tr style=\"text-align: right;\">\n",
       "      <th></th>\n",
       "      <th>id</th>\n",
       "      <th>Вид_образования</th>\n",
       "      <th>Специальность</th>\n",
       "      <th>Кол-во курсов</th>\n",
       "      <th>Повышение_квалификации</th>\n",
       "    </tr>\n",
       "  </thead>\n",
       "  <tbody>\n",
       "    <tr>\n",
       "      <th>0</th>\n",
       "      <td>ОРГ1-00001</td>\n",
       "      <td>образован повышен высш квалификац</td>\n",
       "      <td>организац технолог здан химическ проектн деяте...</td>\n",
       "      <td>0</td>\n",
       "      <td>1</td>\n",
       "    </tr>\n",
       "    <tr>\n",
       "      <th>1</th>\n",
       "      <td>ОРГ1-00004</td>\n",
       "      <td>образован повышен высш квалификац</td>\n",
       "      <td>применен вопрос систем стребован стандарт мене...</td>\n",
       "      <td>4</td>\n",
       "      <td>1</td>\n",
       "    </tr>\n",
       "    <tr>\n",
       "      <th>2</th>\n",
       "      <td>ОРГ1-00005</td>\n",
       "      <td>образован повышен высш квалификац</td>\n",
       "      <td>электроэнергетическ здан деятельн сооружен мен...</td>\n",
       "      <td>6</td>\n",
       "      <td>1</td>\n",
       "    </tr>\n",
       "    <tr>\n",
       "      <th>3</th>\n",
       "      <td>ОРГ1-00010</td>\n",
       "      <td>образован высш</td>\n",
       "      <td>экономик организац промышлен машиностроительн</td>\n",
       "      <td>0</td>\n",
       "      <td>0</td>\n",
       "    </tr>\n",
       "    <tr>\n",
       "      <th>4</th>\n",
       "      <td>ОРГ1-00013</td>\n",
       "      <td>образован высш</td>\n",
       "      <td>социальн систем стребован стандарт менеджмент ...</td>\n",
       "      <td>3</td>\n",
       "      <td>0</td>\n",
       "    </tr>\n",
       "  </tbody>\n",
       "</table>\n",
       "</div>"
      ],
      "text/plain": [
       "           id                    Вид_образования  \\\n",
       "0  ОРГ1-00001  образован повышен высш квалификац   \n",
       "1  ОРГ1-00004  образован повышен высш квалификац   \n",
       "2  ОРГ1-00005  образован повышен высш квалификац   \n",
       "3  ОРГ1-00010                     образован высш   \n",
       "4  ОРГ1-00013                     образован высш   \n",
       "\n",
       "                                       Специальность  Кол-во курсов  \\\n",
       "0  организац технолог здан химическ проектн деяте...              0   \n",
       "1  применен вопрос систем стребован стандарт мене...              4   \n",
       "2  электроэнергетическ здан деятельн сооружен мен...              6   \n",
       "3      экономик организац промышлен машиностроительн              0   \n",
       "4  социальн систем стребован стандарт менеджмент ...              3   \n",
       "\n",
       "   Повышение_квалификации  \n",
       "0                       1  \n",
       "1                       1  \n",
       "2                       1  \n",
       "3                       0  \n",
       "4                       0  "
      ]
     },
     "execution_count": 16,
     "metadata": {},
     "output_type": "execute_result"
    }
   ],
   "source": [
    "edu.rename(columns={'Табельный номер руководителя': 'Кол-во курсов'}, inplace=True)\n",
    "edu.head()"
   ]
  },
  {
   "cell_type": "code",
   "execution_count": 17,
   "metadata": {},
   "outputs": [],
   "source": [
    "df = edu"
   ]
  },
  {
   "cell_type": "markdown",
   "metadata": {},
   "source": [
    "#### Звонки"
   ]
  },
  {
   "cell_type": "code",
   "execution_count": 18,
   "metadata": {},
   "outputs": [
    {
     "data": {
      "text/html": [
       "<div>\n",
       "<style scoped>\n",
       "    .dataframe tbody tr th:only-of-type {\n",
       "        vertical-align: middle;\n",
       "    }\n",
       "\n",
       "    .dataframe tbody tr th {\n",
       "        vertical-align: top;\n",
       "    }\n",
       "\n",
       "    .dataframe thead th {\n",
       "        text-align: right;\n",
       "    }\n",
       "</style>\n",
       "<table border=\"1\" class=\"dataframe\">\n",
       "  <thead>\n",
       "    <tr style=\"text-align: right;\">\n",
       "      <th></th>\n",
       "      <th>Date</th>\n",
       "      <th>CallTime</th>\n",
       "      <th>NumberOfCalls</th>\n",
       "      <th>Вид учета времени</th>\n",
       "      <th>InOut</th>\n",
       "      <th>id</th>\n",
       "    </tr>\n",
       "  </thead>\n",
       "  <tbody>\n",
       "    <tr>\n",
       "      <th>0</th>\n",
       "      <td>2021-08-16 00:00:00,000</td>\n",
       "      <td>0,00027777777777777778</td>\n",
       "      <td>1</td>\n",
       "      <td>Будни</td>\n",
       "      <td>ToUser</td>\n",
       "      <td>ОРГ1-01945</td>\n",
       "    </tr>\n",
       "    <tr>\n",
       "      <th>1</th>\n",
       "      <td>2021-09-21 00:00:00,000</td>\n",
       "      <td>0,00027777777777777778</td>\n",
       "      <td>1</td>\n",
       "      <td>Будни</td>\n",
       "      <td>ToUser</td>\n",
       "      <td>ОРГ1-01945</td>\n",
       "    </tr>\n",
       "    <tr>\n",
       "      <th>2</th>\n",
       "      <td>2021-01-11 00:00:00,000</td>\n",
       "      <td>0,00027777777777777778</td>\n",
       "      <td>1</td>\n",
       "      <td>Будни</td>\n",
       "      <td>ToUser</td>\n",
       "      <td>ОРГ1-01945</td>\n",
       "    </tr>\n",
       "    <tr>\n",
       "      <th>3</th>\n",
       "      <td>2021-01-18 00:00:00,000</td>\n",
       "      <td>0,00027777777777777778</td>\n",
       "      <td>1</td>\n",
       "      <td>Будни</td>\n",
       "      <td>ToUser</td>\n",
       "      <td>ОРГ1-01945</td>\n",
       "    </tr>\n",
       "    <tr>\n",
       "      <th>4</th>\n",
       "      <td>2021-01-27 00:00:00,000</td>\n",
       "      <td>0,00027777777777777778</td>\n",
       "      <td>1</td>\n",
       "      <td>Будни</td>\n",
       "      <td>ToUser</td>\n",
       "      <td>ОРГ1-01945</td>\n",
       "    </tr>\n",
       "  </tbody>\n",
       "</table>\n",
       "</div>"
      ],
      "text/plain": [
       "                      Date                CallTime  NumberOfCalls  \\\n",
       "0  2021-08-16 00:00:00,000  0,00027777777777777778              1   \n",
       "1  2021-09-21 00:00:00,000  0,00027777777777777778              1   \n",
       "2  2021-01-11 00:00:00,000  0,00027777777777777778              1   \n",
       "3  2021-01-18 00:00:00,000  0,00027777777777777778              1   \n",
       "4  2021-01-27 00:00:00,000  0,00027777777777777778              1   \n",
       "\n",
       "  Вид учета времени   InOut          id  \n",
       "0             Будни  ToUser  ОРГ1-01945  \n",
       "1             Будни  ToUser  ОРГ1-01945  \n",
       "2             Будни  ToUser  ОРГ1-01945  \n",
       "3             Будни  ToUser  ОРГ1-01945  \n",
       "4             Будни  ToUser  ОРГ1-01945  "
      ]
     },
     "execution_count": 18,
     "metadata": {},
     "output_type": "execute_result"
    }
   ],
   "source": [
    "calls = pd.read_csv('Calls.csv')\n",
    "calls.head()"
   ]
  },
  {
   "cell_type": "code",
   "execution_count": 19,
   "metadata": {},
   "outputs": [
    {
     "data": {
      "text/plain": [
       "Date                 object\n",
       "CallTime             object\n",
       "NumberOfCalls         int64\n",
       "Вид учета времени    object\n",
       "InOut                object\n",
       "id                   object\n",
       "dtype: object"
      ]
     },
     "execution_count": 19,
     "metadata": {},
     "output_type": "execute_result"
    }
   ],
   "source": [
    "calls.dtypes"
   ]
  },
  {
   "cell_type": "code",
   "execution_count": 20,
   "metadata": {},
   "outputs": [],
   "source": [
    "# переведем данные по длительности звонка во float\n",
    "calls['CallTime'] = calls['CallTime'].apply(lambda x: x.replace(',', '.')).astype('float')"
   ]
  },
  {
   "cell_type": "markdown",
   "metadata": {},
   "source": [
    "Сгруппируем данные по ид, направлению звонка, дате и виду учета времени, посчитаем суммарное время звонков и их количество.\n",
    "Затем найдем средние значения длительности и количества звонков в день в разбивке по направлению звонка, виду учета времени."
   ]
  },
  {
   "cell_type": "code",
   "execution_count": 21,
   "metadata": {},
   "outputs": [
    {
     "data": {
      "text/html": [
       "<div>\n",
       "<style scoped>\n",
       "    .dataframe tbody tr th:only-of-type {\n",
       "        vertical-align: middle;\n",
       "    }\n",
       "\n",
       "    .dataframe tbody tr th {\n",
       "        vertical-align: top;\n",
       "    }\n",
       "\n",
       "    .dataframe thead th {\n",
       "        text-align: right;\n",
       "    }\n",
       "</style>\n",
       "<table border=\"1\" class=\"dataframe\">\n",
       "  <thead>\n",
       "    <tr style=\"text-align: right;\">\n",
       "      <th></th>\n",
       "      <th>id</th>\n",
       "      <th>InOut</th>\n",
       "      <th>Date</th>\n",
       "      <th>Вид учета времени</th>\n",
       "      <th>CallTime</th>\n",
       "      <th>NumberOfCalls</th>\n",
       "    </tr>\n",
       "  </thead>\n",
       "  <tbody>\n",
       "    <tr>\n",
       "      <th>0</th>\n",
       "      <td>ОРГ1-00004</td>\n",
       "      <td>FromUser</td>\n",
       "      <td>2021-01-12 00:00:00,000</td>\n",
       "      <td>Будни</td>\n",
       "      <td>1.238333</td>\n",
       "      <td>2</td>\n",
       "    </tr>\n",
       "    <tr>\n",
       "      <th>1</th>\n",
       "      <td>ОРГ1-00004</td>\n",
       "      <td>FromUser</td>\n",
       "      <td>2021-02-01 00:00:00,000</td>\n",
       "      <td>Будни</td>\n",
       "      <td>0.577222</td>\n",
       "      <td>11</td>\n",
       "    </tr>\n",
       "    <tr>\n",
       "      <th>2</th>\n",
       "      <td>ОРГ1-00004</td>\n",
       "      <td>FromUser</td>\n",
       "      <td>2021-02-02 00:00:00,000</td>\n",
       "      <td>Будни</td>\n",
       "      <td>0.921389</td>\n",
       "      <td>22</td>\n",
       "    </tr>\n",
       "    <tr>\n",
       "      <th>3</th>\n",
       "      <td>ОРГ1-00004</td>\n",
       "      <td>FromUser</td>\n",
       "      <td>2021-02-03 00:00:00,000</td>\n",
       "      <td>Будни</td>\n",
       "      <td>0.253611</td>\n",
       "      <td>8</td>\n",
       "    </tr>\n",
       "    <tr>\n",
       "      <th>4</th>\n",
       "      <td>ОРГ1-00004</td>\n",
       "      <td>FromUser</td>\n",
       "      <td>2021-02-04 00:00:00,000</td>\n",
       "      <td>Будни</td>\n",
       "      <td>0.273056</td>\n",
       "      <td>10</td>\n",
       "    </tr>\n",
       "  </tbody>\n",
       "</table>\n",
       "</div>"
      ],
      "text/plain": [
       "           id     InOut                     Date Вид учета времени  CallTime  \\\n",
       "0  ОРГ1-00004  FromUser  2021-01-12 00:00:00,000             Будни  1.238333   \n",
       "1  ОРГ1-00004  FromUser  2021-02-01 00:00:00,000             Будни  0.577222   \n",
       "2  ОРГ1-00004  FromUser  2021-02-02 00:00:00,000             Будни  0.921389   \n",
       "3  ОРГ1-00004  FromUser  2021-02-03 00:00:00,000             Будни  0.253611   \n",
       "4  ОРГ1-00004  FromUser  2021-02-04 00:00:00,000             Будни  0.273056   \n",
       "\n",
       "   NumberOfCalls  \n",
       "0              2  \n",
       "1             11  \n",
       "2             22  \n",
       "3              8  \n",
       "4             10  "
      ]
     },
     "execution_count": 21,
     "metadata": {},
     "output_type": "execute_result"
    }
   ],
   "source": [
    "calls = calls.groupby(['id', 'InOut', 'Date', 'Вид учета времени'], as_index=False) \\\n",
    "     .agg({'CallTime': 'sum', 'NumberOfCalls': 'sum'})\n",
    "calls.head()"
   ]
  },
  {
   "cell_type": "code",
   "execution_count": 22,
   "metadata": {},
   "outputs": [
    {
     "data": {
      "text/html": [
       "<div>\n",
       "<style scoped>\n",
       "    .dataframe tbody tr th:only-of-type {\n",
       "        vertical-align: middle;\n",
       "    }\n",
       "\n",
       "    .dataframe tbody tr th {\n",
       "        vertical-align: top;\n",
       "    }\n",
       "\n",
       "    .dataframe thead tr th {\n",
       "        text-align: left;\n",
       "    }\n",
       "</style>\n",
       "<table border=\"1\" class=\"dataframe\">\n",
       "  <thead>\n",
       "    <tr>\n",
       "      <th></th>\n",
       "      <th>id</th>\n",
       "      <th colspan=\"4\" halign=\"left\">CallTime</th>\n",
       "      <th colspan=\"4\" halign=\"left\">NumberOfCalls</th>\n",
       "    </tr>\n",
       "    <tr>\n",
       "      <th>InOut</th>\n",
       "      <th></th>\n",
       "      <th colspan=\"2\" halign=\"left\">FromUser</th>\n",
       "      <th colspan=\"2\" halign=\"left\">ToUser</th>\n",
       "      <th colspan=\"2\" halign=\"left\">FromUser</th>\n",
       "      <th colspan=\"2\" halign=\"left\">ToUser</th>\n",
       "    </tr>\n",
       "    <tr>\n",
       "      <th>Вид учета времени</th>\n",
       "      <th></th>\n",
       "      <th>Будни</th>\n",
       "      <th>Выходные дни</th>\n",
       "      <th>Будни</th>\n",
       "      <th>Выходные дни</th>\n",
       "      <th>Будни</th>\n",
       "      <th>Выходные дни</th>\n",
       "      <th>Будни</th>\n",
       "      <th>Выходные дни</th>\n",
       "    </tr>\n",
       "  </thead>\n",
       "  <tbody>\n",
       "    <tr>\n",
       "      <th>0</th>\n",
       "      <td>ОРГ1-00004</td>\n",
       "      <td>0.430053</td>\n",
       "      <td>0.131389</td>\n",
       "      <td>0.398668</td>\n",
       "      <td>0.216944</td>\n",
       "      <td>17.907692</td>\n",
       "      <td>5.000000</td>\n",
       "      <td>10.948454</td>\n",
       "      <td>4.750000</td>\n",
       "    </tr>\n",
       "    <tr>\n",
       "      <th>1</th>\n",
       "      <td>ОРГ1-00005</td>\n",
       "      <td>0.609035</td>\n",
       "      <td>0.424769</td>\n",
       "      <td>0.683782</td>\n",
       "      <td>1.538272</td>\n",
       "      <td>10.297030</td>\n",
       "      <td>3.833333</td>\n",
       "      <td>7.092308</td>\n",
       "      <td>1.666667</td>\n",
       "    </tr>\n",
       "    <tr>\n",
       "      <th>2</th>\n",
       "      <td>ОРГ1-00028</td>\n",
       "      <td>0.134189</td>\n",
       "      <td>0.008056</td>\n",
       "      <td>0.168257</td>\n",
       "      <td>0.075833</td>\n",
       "      <td>5.356383</td>\n",
       "      <td>1.000000</td>\n",
       "      <td>5.224390</td>\n",
       "      <td>2.000000</td>\n",
       "    </tr>\n",
       "    <tr>\n",
       "      <th>3</th>\n",
       "      <td>ОРГ1-00030</td>\n",
       "      <td>0.191504</td>\n",
       "      <td>NaN</td>\n",
       "      <td>0.134772</td>\n",
       "      <td>0.016667</td>\n",
       "      <td>8.592593</td>\n",
       "      <td>NaN</td>\n",
       "      <td>6.994924</td>\n",
       "      <td>1.000000</td>\n",
       "    </tr>\n",
       "    <tr>\n",
       "      <th>4</th>\n",
       "      <td>ОРГ1-00044</td>\n",
       "      <td>0.323178</td>\n",
       "      <td>0.198935</td>\n",
       "      <td>0.407965</td>\n",
       "      <td>0.093472</td>\n",
       "      <td>9.831731</td>\n",
       "      <td>1.666667</td>\n",
       "      <td>9.475962</td>\n",
       "      <td>3.000000</td>\n",
       "    </tr>\n",
       "  </tbody>\n",
       "</table>\n",
       "</div>"
      ],
      "text/plain": [
       "                           id  CallTime                                      \\\n",
       "InOut                          FromUser                 ToUser                \n",
       "Вид учета времени                 Будни Выходные дни     Будни Выходные дни   \n",
       "0                  ОРГ1-00004  0.430053     0.131389  0.398668     0.216944   \n",
       "1                  ОРГ1-00005  0.609035     0.424769  0.683782     1.538272   \n",
       "2                  ОРГ1-00028  0.134189     0.008056  0.168257     0.075833   \n",
       "3                  ОРГ1-00030  0.191504          NaN  0.134772     0.016667   \n",
       "4                  ОРГ1-00044  0.323178     0.198935  0.407965     0.093472   \n",
       "\n",
       "                  NumberOfCalls                                       \n",
       "InOut                  FromUser                  ToUser               \n",
       "Вид учета времени         Будни Выходные дни      Будни Выходные дни  \n",
       "0                     17.907692     5.000000  10.948454     4.750000  \n",
       "1                     10.297030     3.833333   7.092308     1.666667  \n",
       "2                      5.356383     1.000000   5.224390     2.000000  \n",
       "3                      8.592593          NaN   6.994924     1.000000  \n",
       "4                      9.831731     1.666667   9.475962     3.000000  "
      ]
     },
     "execution_count": 22,
     "metadata": {},
     "output_type": "execute_result"
    }
   ],
   "source": [
    "calls = calls.groupby(['id', 'InOut', 'Вид учета времени'], as_index=False) \\\n",
    "             .agg({'CallTime': 'mean', 'NumberOfCalls': 'mean'}) \\\n",
    "             .pivot(index='id', columns=['InOut', 'Вид учета времени'], values=['CallTime', 'NumberOfCalls']) \\\n",
    "             .reset_index()\n",
    "calls.head()"
   ]
  },
  {
   "cell_type": "code",
   "execution_count": 23,
   "metadata": {},
   "outputs": [],
   "source": [
    "calls.columns = ['id', 'Calltime_from_буд', 'Calltime_from_вых', 'Calltime_to_буд', 'Calltime_to_вых', 'Nocalls_from_буд', 'Nocalls_from_вых', 'Nocalls_to_буд', 'Nocalls_to_вых'] "
   ]
  },
  {
   "cell_type": "code",
   "execution_count": 24,
   "metadata": {},
   "outputs": [
    {
     "data": {
      "image/png": "[encoded data removed]",
      "text/plain": [
       "<Figure size 432x288 with 1 Axes>"
      ]
     },
     "metadata": {
      "needs_background": "light"
     },
     "output_type": "display_data"
    },
    {
     "data": {
      "image/png": "[encoded data removed]",
      "text/plain": [
       "<Figure size 432x288 with 1 Axes>"
      ]
     },
     "metadata": {
      "needs_background": "light"
     },
     "output_type": "display_data"
    },
    {
     "data": {
      "image/png": "[encoded data removed]",
      "text/plain": [
       "<Figure size 432x288 with 1 Axes>"
      ]
     },
     "metadata": {
      "needs_background": "light"
     },
     "output_type": "display_data"
    },
    {
     "data": {
      "image/png": "[encoded data removed]",
      "text/plain": [
       "<Figure size 432x288 with 1 Axes>"
      ]
     },
     "metadata": {
      "needs_background": "light"
     },
     "output_type": "display_data"
    },
    {
     "data": {
      "image/png": "[encoded data removed]",
      "text/plain": [
       "<Figure size 432x288 with 1 Axes>"
      ]
     },
     "metadata": {
      "needs_background": "light"
     },
     "output_type": "display_data"
    },
    {
     "data": {
      "image/png": "[encoded data removed]",
      "text/plain": [
       "<Figure size 432x288 with 1 Axes>"
      ]
     },
     "metadata": {
      "needs_background": "light"
     },
     "output_type": "display_data"
    },
    {
     "data": {
      "image/png": "[encoded data removed]",
      "text/plain": [
       "<Figure size 432x288 with 1 Axes>"
      ]
     },
     "metadata": {
      "needs_background": "light"
     },
     "output_type": "display_data"
    },
    {
     "data": {
      "image/png": "[encoded data removed]",
      "text/plain": [
       "<Figure size 432x288 with 1 Axes>"
      ]
     },
     "metadata": {
      "needs_background": "light"
     },
     "output_type": "display_data"
    }
   ],
   "source": [
    "for col in calls.columns[1:]:\n",
    "    sns.boxplot(data=calls, x=col)\n",
    "    plt.show()"
   ]
  },
  {
   "cell_type": "code",
   "execution_count": 25,
   "metadata": {},
   "outputs": [
    {
     "data": {
      "text/html": [
       "<div>\n",
       "<style scoped>\n",
       "    .dataframe tbody tr th:only-of-type {\n",
       "        vertical-align: middle;\n",
       "    }\n",
       "\n",
       "    .dataframe tbody tr th {\n",
       "        vertical-align: top;\n",
       "    }\n",
       "\n",
       "    .dataframe thead th {\n",
       "        text-align: right;\n",
       "    }\n",
       "</style>\n",
       "<table border=\"1\" class=\"dataframe\">\n",
       "  <thead>\n",
       "    <tr style=\"text-align: right;\">\n",
       "      <th></th>\n",
       "      <th>id</th>\n",
       "      <th>Calltime_from_буд</th>\n",
       "      <th>Calltime_from_вых</th>\n",
       "      <th>Calltime_to_буд</th>\n",
       "      <th>Calltime_to_вых</th>\n",
       "      <th>Nocalls_from_буд</th>\n",
       "      <th>Nocalls_from_вых</th>\n",
       "      <th>Nocalls_to_буд</th>\n",
       "      <th>Nocalls_to_вых</th>\n",
       "    </tr>\n",
       "  </thead>\n",
       "  <tbody>\n",
       "    <tr>\n",
       "      <th>0</th>\n",
       "      <td>ОРГ1-00004</td>\n",
       "      <td>4</td>\n",
       "      <td>3</td>\n",
       "      <td>4</td>\n",
       "      <td>4</td>\n",
       "      <td>4</td>\n",
       "      <td>4</td>\n",
       "      <td>4</td>\n",
       "      <td>4</td>\n",
       "    </tr>\n",
       "    <tr>\n",
       "      <th>1</th>\n",
       "      <td>ОРГ1-00005</td>\n",
       "      <td>4</td>\n",
       "      <td>4</td>\n",
       "      <td>4</td>\n",
       "      <td>4</td>\n",
       "      <td>4</td>\n",
       "      <td>3</td>\n",
       "      <td>3</td>\n",
       "      <td>2</td>\n",
       "    </tr>\n",
       "    <tr>\n",
       "      <th>2</th>\n",
       "      <td>ОРГ1-00028</td>\n",
       "      <td>2</td>\n",
       "      <td>1</td>\n",
       "      <td>2</td>\n",
       "      <td>3</td>\n",
       "      <td>2</td>\n",
       "      <td>NaN</td>\n",
       "      <td>3</td>\n",
       "      <td>2</td>\n",
       "    </tr>\n",
       "    <tr>\n",
       "      <th>3</th>\n",
       "      <td>ОРГ1-00030</td>\n",
       "      <td>2</td>\n",
       "      <td>NaN</td>\n",
       "      <td>2</td>\n",
       "      <td>2</td>\n",
       "      <td>3</td>\n",
       "      <td>NaN</td>\n",
       "      <td>3</td>\n",
       "      <td>NaN</td>\n",
       "    </tr>\n",
       "    <tr>\n",
       "      <th>4</th>\n",
       "      <td>ОРГ1-00044</td>\n",
       "      <td>3</td>\n",
       "      <td>4</td>\n",
       "      <td>4</td>\n",
       "      <td>3</td>\n",
       "      <td>3</td>\n",
       "      <td>1</td>\n",
       "      <td>4</td>\n",
       "      <td>3</td>\n",
       "    </tr>\n",
       "  </tbody>\n",
       "</table>\n",
       "</div>"
      ],
      "text/plain": [
       "           id Calltime_from_буд Calltime_from_вых Calltime_to_буд  \\\n",
       "0  ОРГ1-00004                 4                 3               4   \n",
       "1  ОРГ1-00005                 4                 4               4   \n",
       "2  ОРГ1-00028                 2                 1               2   \n",
       "3  ОРГ1-00030                 2               NaN               2   \n",
       "4  ОРГ1-00044                 3                 4               4   \n",
       "\n",
       "  Calltime_to_вых Nocalls_from_буд Nocalls_from_вых Nocalls_to_буд  \\\n",
       "0               4                4                4              4   \n",
       "1               4                4                3              3   \n",
       "2               3                2              NaN              3   \n",
       "3               2                3              NaN              3   \n",
       "4               3                3                1              4   \n",
       "\n",
       "  Nocalls_to_вых  \n",
       "0              4  \n",
       "1              2  \n",
       "2              2  \n",
       "3            NaN  \n",
       "4              3  "
      ]
     },
     "execution_count": 25,
     "metadata": {},
     "output_type": "execute_result"
    }
   ],
   "source": [
    "for col in calls.columns[1:]:\n",
    "    bins = calls[col].quantile([0, 0.25, 0.5, 0.75, 1], )\n",
    "    calls[col] = pd.cut(calls[col], bins, labels=[1, 2, 3, 4])\n",
    "calls.head()"
   ]
  },
  {
   "cell_type": "code",
   "execution_count": 26,
   "metadata": {},
   "outputs": [],
   "source": [
    "df = df.merge(calls, on='id', how='outer')"
   ]
  },
  {
   "cell_type": "markdown",
   "metadata": {},
   "source": [
    "#### Время за компьютером"
   ]
  },
  {
   "cell_type": "code",
   "execution_count": 27,
   "metadata": {},
   "outputs": [
    {
     "data": {
      "text/html": [
       "<div>\n",
       "<style scoped>\n",
       "    .dataframe tbody tr th:only-of-type {\n",
       "        vertical-align: middle;\n",
       "    }\n",
       "\n",
       "    .dataframe tbody tr th {\n",
       "        vertical-align: top;\n",
       "    }\n",
       "\n",
       "    .dataframe thead th {\n",
       "        text-align: right;\n",
       "    }\n",
       "</style>\n",
       "<table border=\"1\" class=\"dataframe\">\n",
       "  <thead>\n",
       "    <tr style=\"text-align: right;\">\n",
       "      <th></th>\n",
       "      <th>startTime</th>\n",
       "      <th>activeTime</th>\n",
       "      <th>Вых/Будни</th>\n",
       "      <th>monitorTime</th>\n",
       "      <th>id</th>\n",
       "    </tr>\n",
       "  </thead>\n",
       "  <tbody>\n",
       "    <tr>\n",
       "      <th>0</th>\n",
       "      <td>2021-11-30 00:00:00,000</td>\n",
       "      <td>2</td>\n",
       "      <td>Будни</td>\n",
       "      <td>2</td>\n",
       "      <td>ОРГ1-01553</td>\n",
       "    </tr>\n",
       "    <tr>\n",
       "      <th>1</th>\n",
       "      <td>2021-11-30 00:00:00,000</td>\n",
       "      <td>2</td>\n",
       "      <td>Будни</td>\n",
       "      <td>2</td>\n",
       "      <td>ОРГ1-02112</td>\n",
       "    </tr>\n",
       "    <tr>\n",
       "      <th>2</th>\n",
       "      <td>2021-11-30 00:00:00,000</td>\n",
       "      <td>2</td>\n",
       "      <td>Будни</td>\n",
       "      <td>2</td>\n",
       "      <td>ОРГ1-02112</td>\n",
       "    </tr>\n",
       "    <tr>\n",
       "      <th>3</th>\n",
       "      <td>2021-11-30 00:00:00,000</td>\n",
       "      <td>2</td>\n",
       "      <td>Будни</td>\n",
       "      <td>2</td>\n",
       "      <td>ОРГ1-01846</td>\n",
       "    </tr>\n",
       "    <tr>\n",
       "      <th>4</th>\n",
       "      <td>2021-11-30 00:00:00,000</td>\n",
       "      <td>2</td>\n",
       "      <td>Будни</td>\n",
       "      <td>2</td>\n",
       "      <td>ОРГ1-01846</td>\n",
       "    </tr>\n",
       "  </tbody>\n",
       "</table>\n",
       "</div>"
      ],
      "text/plain": [
       "                 startTime  activeTime Вых/Будни  monitorTime          id\n",
       "0  2021-11-30 00:00:00,000           2     Будни            2  ОРГ1-01553\n",
       "1  2021-11-30 00:00:00,000           2     Будни            2  ОРГ1-02112\n",
       "2  2021-11-30 00:00:00,000           2     Будни            2  ОРГ1-02112\n",
       "3  2021-11-30 00:00:00,000           2     Будни            2  ОРГ1-01846\n",
       "4  2021-11-30 00:00:00,000           2     Будни            2  ОРГ1-01846"
      ]
     },
     "execution_count": 27,
     "metadata": {},
     "output_type": "execute_result"
    }
   ],
   "source": [
    "wd = pd.read_csv('WorkingDay.csv')\n",
    "wd.head()"
   ]
  },
  {
   "cell_type": "code",
   "execution_count": 28,
   "metadata": {},
   "outputs": [
    {
     "data": {
      "text/plain": [
       "startTime      0\n",
       "activeTime     0\n",
       "Вых/Будни      0\n",
       "monitorTime    0\n",
       "id             0\n",
       "dtype: int64"
      ]
     },
     "execution_count": 28,
     "metadata": {},
     "output_type": "execute_result"
    }
   ],
   "source": [
    "wd.isna().sum()"
   ]
  },
  {
   "cell_type": "markdown",
   "metadata": {},
   "source": [
    "Сгруппируем данные по ид, виду дней недели, посчитаем средние и медианные значения времени активной работы и активности монитора."
   ]
  },
  {
   "cell_type": "code",
   "execution_count": 29,
   "metadata": {},
   "outputs": [
    {
     "data": {
      "text/html": [
       "<div>\n",
       "<style scoped>\n",
       "    .dataframe tbody tr th:only-of-type {\n",
       "        vertical-align: middle;\n",
       "    }\n",
       "\n",
       "    .dataframe tbody tr th {\n",
       "        vertical-align: top;\n",
       "    }\n",
       "\n",
       "    .dataframe thead th {\n",
       "        text-align: right;\n",
       "    }\n",
       "</style>\n",
       "<table border=\"1\" class=\"dataframe\">\n",
       "  <thead>\n",
       "    <tr style=\"text-align: right;\">\n",
       "      <th></th>\n",
       "      <th>id</th>\n",
       "      <th>Вых/Будни</th>\n",
       "      <th>activeTime_mean</th>\n",
       "      <th>activeTime_median</th>\n",
       "      <th>monitorTime_mean</th>\n",
       "      <th>monitorTime_median</th>\n",
       "    </tr>\n",
       "  </thead>\n",
       "  <tbody>\n",
       "    <tr>\n",
       "      <th>0</th>\n",
       "      <td>ОРГ1-00004</td>\n",
       "      <td>Будни</td>\n",
       "      <td>1389.785864</td>\n",
       "      <td>610.5</td>\n",
       "      <td>4472.757592</td>\n",
       "      <td>1003.0</td>\n",
       "    </tr>\n",
       "    <tr>\n",
       "      <th>1</th>\n",
       "      <td>ОРГ1-00004</td>\n",
       "      <td>Выходные дни</td>\n",
       "      <td>738.520295</td>\n",
       "      <td>152.0</td>\n",
       "      <td>10105.081181</td>\n",
       "      <td>389.0</td>\n",
       "    </tr>\n",
       "    <tr>\n",
       "      <th>2</th>\n",
       "      <td>ОРГ1-00028</td>\n",
       "      <td>Будни</td>\n",
       "      <td>2754.448193</td>\n",
       "      <td>444.0</td>\n",
       "      <td>7673.428313</td>\n",
       "      <td>689.0</td>\n",
       "    </tr>\n",
       "    <tr>\n",
       "      <th>3</th>\n",
       "      <td>ОРГ1-00028</td>\n",
       "      <td>Выходные дни</td>\n",
       "      <td>412.803279</td>\n",
       "      <td>0.0</td>\n",
       "      <td>67756.786885</td>\n",
       "      <td>85784.0</td>\n",
       "    </tr>\n",
       "    <tr>\n",
       "      <th>4</th>\n",
       "      <td>ОРГ1-00030</td>\n",
       "      <td>Будни</td>\n",
       "      <td>1750.411583</td>\n",
       "      <td>299.0</td>\n",
       "      <td>2119.393457</td>\n",
       "      <td>328.5</td>\n",
       "    </tr>\n",
       "  </tbody>\n",
       "</table>\n",
       "</div>"
      ],
      "text/plain": [
       "           id     Вых/Будни  activeTime_mean  activeTime_median  \\\n",
       "0  ОРГ1-00004         Будни      1389.785864              610.5   \n",
       "1  ОРГ1-00004  Выходные дни       738.520295              152.0   \n",
       "2  ОРГ1-00028         Будни      2754.448193              444.0   \n",
       "3  ОРГ1-00028  Выходные дни       412.803279                0.0   \n",
       "4  ОРГ1-00030         Будни      1750.411583              299.0   \n",
       "\n",
       "   monitorTime_mean  monitorTime_median  \n",
       "0       4472.757592              1003.0  \n",
       "1      10105.081181               389.0  \n",
       "2       7673.428313               689.0  \n",
       "3      67756.786885             85784.0  \n",
       "4       2119.393457               328.5  "
      ]
     },
     "execution_count": 29,
     "metadata": {},
     "output_type": "execute_result"
    }
   ],
   "source": [
    "wd_agg = wd.groupby(['id', 'Вых/Будни'], as_index=False) \\\n",
    "  .agg({'activeTime': ['mean', 'median'],\n",
    "        'monitorTime': ['mean', 'median']})\n",
    "\n",
    "wd_agg.columns = ['id', 'Вых/Будни', 'activeTime_mean', 'activeTime_median', 'monitorTime_mean', 'monitorTime_median']\n",
    "wd_agg.head()"
   ]
  },
  {
   "cell_type": "code",
   "execution_count": 30,
   "metadata": {},
   "outputs": [
    {
     "data": {
      "text/html": [
       "<div>\n",
       "<style scoped>\n",
       "    .dataframe tbody tr th:only-of-type {\n",
       "        vertical-align: middle;\n",
       "    }\n",
       "\n",
       "    .dataframe tbody tr th {\n",
       "        vertical-align: top;\n",
       "    }\n",
       "\n",
       "    .dataframe thead th {\n",
       "        text-align: right;\n",
       "    }\n",
       "</style>\n",
       "<table border=\"1\" class=\"dataframe\">\n",
       "  <thead>\n",
       "    <tr style=\"text-align: right;\">\n",
       "      <th></th>\n",
       "      <th>id</th>\n",
       "      <th>activeTime_mean_буд</th>\n",
       "      <th>activeTime_mean_вых</th>\n",
       "      <th>activeTime_median_буд</th>\n",
       "      <th>activeTime_median_вых</th>\n",
       "      <th>monitorTime_mean_буд</th>\n",
       "      <th>monitorTime_mean_вых</th>\n",
       "      <th>monitorTime_median_буд</th>\n",
       "      <th>monitorTime_median_вых</th>\n",
       "    </tr>\n",
       "  </thead>\n",
       "  <tbody>\n",
       "    <tr>\n",
       "      <th>0</th>\n",
       "      <td>ОРГ1-00004</td>\n",
       "      <td>1389.785864</td>\n",
       "      <td>738.520295</td>\n",
       "      <td>610.5</td>\n",
       "      <td>152.0</td>\n",
       "      <td>4472.757592</td>\n",
       "      <td>10105.081181</td>\n",
       "      <td>1003.0</td>\n",
       "      <td>389.0</td>\n",
       "    </tr>\n",
       "    <tr>\n",
       "      <th>1</th>\n",
       "      <td>ОРГ1-00028</td>\n",
       "      <td>2754.448193</td>\n",
       "      <td>412.803279</td>\n",
       "      <td>444.0</td>\n",
       "      <td>0.0</td>\n",
       "      <td>7673.428313</td>\n",
       "      <td>67756.786885</td>\n",
       "      <td>689.0</td>\n",
       "      <td>85784.0</td>\n",
       "    </tr>\n",
       "    <tr>\n",
       "      <th>2</th>\n",
       "      <td>ОРГ1-00030</td>\n",
       "      <td>1750.411583</td>\n",
       "      <td>341.000000</td>\n",
       "      <td>299.0</td>\n",
       "      <td>59.0</td>\n",
       "      <td>2119.393457</td>\n",
       "      <td>352.833333</td>\n",
       "      <td>328.5</td>\n",
       "      <td>64.5</td>\n",
       "    </tr>\n",
       "    <tr>\n",
       "      <th>3</th>\n",
       "      <td>ОРГ1-00044</td>\n",
       "      <td>1703.285628</td>\n",
       "      <td>641.049689</td>\n",
       "      <td>623.0</td>\n",
       "      <td>258.0</td>\n",
       "      <td>2473.628260</td>\n",
       "      <td>1967.826087</td>\n",
       "      <td>903.0</td>\n",
       "      <td>637.0</td>\n",
       "    </tr>\n",
       "    <tr>\n",
       "      <th>4</th>\n",
       "      <td>ОРГ1-00046</td>\n",
       "      <td>1193.287123</td>\n",
       "      <td>794.798507</td>\n",
       "      <td>283.5</td>\n",
       "      <td>133.0</td>\n",
       "      <td>2459.286543</td>\n",
       "      <td>2575.957090</td>\n",
       "      <td>337.0</td>\n",
       "      <td>186.0</td>\n",
       "    </tr>\n",
       "  </tbody>\n",
       "</table>\n",
       "</div>"
      ],
      "text/plain": [
       "           id  activeTime_mean_буд  activeTime_mean_вых  \\\n",
       "0  ОРГ1-00004          1389.785864           738.520295   \n",
       "1  ОРГ1-00028          2754.448193           412.803279   \n",
       "2  ОРГ1-00030          1750.411583           341.000000   \n",
       "3  ОРГ1-00044          1703.285628           641.049689   \n",
       "4  ОРГ1-00046          1193.287123           794.798507   \n",
       "\n",
       "   activeTime_median_буд  activeTime_median_вых  monitorTime_mean_буд  \\\n",
       "0                  610.5                  152.0           4472.757592   \n",
       "1                  444.0                    0.0           7673.428313   \n",
       "2                  299.0                   59.0           2119.393457   \n",
       "3                  623.0                  258.0           2473.628260   \n",
       "4                  283.5                  133.0           2459.286543   \n",
       "\n",
       "   monitorTime_mean_вых  monitorTime_median_буд  monitorTime_median_вых  \n",
       "0          10105.081181                  1003.0                   389.0  \n",
       "1          67756.786885                   689.0                 85784.0  \n",
       "2            352.833333                   328.5                    64.5  \n",
       "3           1967.826087                   903.0                   637.0  \n",
       "4           2575.957090                   337.0                   186.0  "
      ]
     },
     "execution_count": 30,
     "metadata": {},
     "output_type": "execute_result"
    }
   ],
   "source": [
    "wd_agg = wd_agg.pivot(index='id', columns=['Вых/Будни'], values=['activeTime_mean', 'activeTime_median', 'monitorTime_mean', 'monitorTime_median']) \\\n",
    "               .reset_index()\n",
    "wd_agg.columns = ['id', 'activeTime_mean_буд', 'activeTime_mean_вых', 'activeTime_median_буд', 'activeTime_median_вых', \n",
    "                  'monitorTime_mean_буд', 'monitorTime_mean_вых', 'monitorTime_median_буд', 'monitorTime_median_вых']\n",
    "wd_agg.head()"
   ]
  },
  {
   "cell_type": "code",
   "execution_count": 31,
   "metadata": {},
   "outputs": [
    {
     "data": {
      "text/html": [
       "<div>\n",
       "<style scoped>\n",
       "    .dataframe tbody tr th:only-of-type {\n",
       "        vertical-align: middle;\n",
       "    }\n",
       "\n",
       "    .dataframe tbody tr th {\n",
       "        vertical-align: top;\n",
       "    }\n",
       "\n",
       "    .dataframe thead th {\n",
       "        text-align: right;\n",
       "    }\n",
       "</style>\n",
       "<table border=\"1\" class=\"dataframe\">\n",
       "  <thead>\n",
       "    <tr style=\"text-align: right;\">\n",
       "      <th></th>\n",
       "      <th>id</th>\n",
       "      <th>activeTime_mean_буд</th>\n",
       "      <th>activeTime_mean_вых</th>\n",
       "      <th>activeTime_median_буд</th>\n",
       "      <th>activeTime_median_вых</th>\n",
       "      <th>monitorTime_mean_буд</th>\n",
       "      <th>monitorTime_mean_вых</th>\n",
       "      <th>monitorTime_median_буд</th>\n",
       "      <th>monitorTime_median_вых</th>\n",
       "    </tr>\n",
       "  </thead>\n",
       "  <tbody>\n",
       "    <tr>\n",
       "      <th>0</th>\n",
       "      <td>ОРГ1-00004</td>\n",
       "      <td>2</td>\n",
       "      <td>3</td>\n",
       "      <td>4</td>\n",
       "      <td>3</td>\n",
       "      <td>3</td>\n",
       "      <td>3</td>\n",
       "      <td>4</td>\n",
       "      <td>2</td>\n",
       "    </tr>\n",
       "    <tr>\n",
       "      <th>1</th>\n",
       "      <td>ОРГ1-00028</td>\n",
       "      <td>4</td>\n",
       "      <td>2</td>\n",
       "      <td>3</td>\n",
       "      <td>NaN</td>\n",
       "      <td>4</td>\n",
       "      <td>4</td>\n",
       "      <td>3</td>\n",
       "      <td>4</td>\n",
       "    </tr>\n",
       "    <tr>\n",
       "      <th>2</th>\n",
       "      <td>ОРГ1-00030</td>\n",
       "      <td>3</td>\n",
       "      <td>2</td>\n",
       "      <td>2</td>\n",
       "      <td>2</td>\n",
       "      <td>2</td>\n",
       "      <td>1</td>\n",
       "      <td>1</td>\n",
       "      <td>1</td>\n",
       "    </tr>\n",
       "    <tr>\n",
       "      <th>3</th>\n",
       "      <td>ОРГ1-00044</td>\n",
       "      <td>3</td>\n",
       "      <td>3</td>\n",
       "      <td>4</td>\n",
       "      <td>4</td>\n",
       "      <td>2</td>\n",
       "      <td>2</td>\n",
       "      <td>4</td>\n",
       "      <td>3</td>\n",
       "    </tr>\n",
       "    <tr>\n",
       "      <th>4</th>\n",
       "      <td>ОРГ1-00046</td>\n",
       "      <td>2</td>\n",
       "      <td>3</td>\n",
       "      <td>2</td>\n",
       "      <td>3</td>\n",
       "      <td>2</td>\n",
       "      <td>2</td>\n",
       "      <td>1</td>\n",
       "      <td>2</td>\n",
       "    </tr>\n",
       "  </tbody>\n",
       "</table>\n",
       "</div>"
      ],
      "text/plain": [
       "           id activeTime_mean_буд activeTime_mean_вых activeTime_median_буд  \\\n",
       "0  ОРГ1-00004                   2                   3                     4   \n",
       "1  ОРГ1-00028                   4                   2                     3   \n",
       "2  ОРГ1-00030                   3                   2                     2   \n",
       "3  ОРГ1-00044                   3                   3                     4   \n",
       "4  ОРГ1-00046                   2                   3                     2   \n",
       "\n",
       "  activeTime_median_вых monitorTime_mean_буд monitorTime_mean_вых  \\\n",
       "0                     3                    3                    3   \n",
       "1                   NaN                    4                    4   \n",
       "2                     2                    2                    1   \n",
       "3                     4                    2                    2   \n",
       "4                     3                    2                    2   \n",
       "\n",
       "  monitorTime_median_буд monitorTime_median_вых  \n",
       "0                      4                      2  \n",
       "1                      3                      4  \n",
       "2                      1                      1  \n",
       "3                      4                      3  \n",
       "4                      1                      2  "
      ]
     },
     "execution_count": 31,
     "metadata": {},
     "output_type": "execute_result"
    }
   ],
   "source": [
    "for col in wd_agg.columns[1:]:\n",
    "    bins = wd_agg[col].quantile([0, 0.25, 0.5, 0.75, 1])\n",
    "    wd_agg[col] = pd.cut(wd_agg[col], bins, labels=[1, 2, 3, 4])\n",
    "wd_agg.head()"
   ]
  },
  {
   "cell_type": "code",
   "execution_count": 32,
   "metadata": {},
   "outputs": [],
   "source": [
    "df = df.merge(wd_agg, on = 'id', how = 'outer')"
   ]
  },
  {
   "cell_type": "markdown",
   "metadata": {},
   "source": [
    "#### Опоздания"
   ]
  },
  {
   "cell_type": "code",
   "execution_count": 33,
   "metadata": {},
   "outputs": [
    {
     "name": "stderr",
     "output_type": "stream",
     "text": [
      "C:\\Users\\nasta\\AppData\\Local\\Temp\\ipykernel_16004\\2911176514.py:1: DtypeWarning: Columns (4,5) have mixed types. Specify dtype option on import or set low_memory=False.\n",
      "  late = pd.read_csv('ConnectionTime.csv')\n"
     ]
    },
    {
     "data": {
      "text/html": [
       "<div>\n",
       "<style scoped>\n",
       "    .dataframe tbody tr th:only-of-type {\n",
       "        vertical-align: middle;\n",
       "    }\n",
       "\n",
       "    .dataframe tbody tr th {\n",
       "        vertical-align: top;\n",
       "    }\n",
       "\n",
       "    .dataframe thead th {\n",
       "        text-align: right;\n",
       "    }\n",
       "</style>\n",
       "<table border=\"1\" class=\"dataframe\">\n",
       "  <thead>\n",
       "    <tr style=\"text-align: right;\">\n",
       "      <th></th>\n",
       "      <th>dateNum</th>\n",
       "      <th>maxLogOff</th>\n",
       "      <th>Нормативное время начала раб.дня</th>\n",
       "      <th>Фактич. время начала раб.дня</th>\n",
       "      <th>Время опоздания</th>\n",
       "      <th>Признак опоздания</th>\n",
       "      <th>Вых/Будни</th>\n",
       "      <th>id</th>\n",
       "    </tr>\n",
       "  </thead>\n",
       "  <tbody>\n",
       "    <tr>\n",
       "      <th>0</th>\n",
       "      <td>2021-12-15 00:00:00,000</td>\n",
       "      <td>2021-12-15 17:30:27,246</td>\n",
       "      <td>1899-12-30 08:30:00,000</td>\n",
       "      <td>1899-12-30 08:24:18,606</td>\n",
       "      <td>NaN</td>\n",
       "      <td>NaN</td>\n",
       "      <td>Будни</td>\n",
       "      <td>ОРГ1-02782</td>\n",
       "    </tr>\n",
       "    <tr>\n",
       "      <th>1</th>\n",
       "      <td>2021-12-15 00:00:00,000</td>\n",
       "      <td>2021-12-15 16:30:13,330</td>\n",
       "      <td>1899-12-30 08:30:00,000</td>\n",
       "      <td>1899-12-30 01:05:20,513</td>\n",
       "      <td>NaN</td>\n",
       "      <td>NaN</td>\n",
       "      <td>Будни</td>\n",
       "      <td>ОРГ1-01407</td>\n",
       "    </tr>\n",
       "    <tr>\n",
       "      <th>2</th>\n",
       "      <td>2021-12-15 00:00:00,000</td>\n",
       "      <td>2021-12-15 15:27:37,246</td>\n",
       "      <td>1899-12-30 08:30:00,000</td>\n",
       "      <td>1899-12-30 05:47:33,156</td>\n",
       "      <td>NaN</td>\n",
       "      <td>NaN</td>\n",
       "      <td>Будни</td>\n",
       "      <td>ОРГ1-01909</td>\n",
       "    </tr>\n",
       "    <tr>\n",
       "      <th>3</th>\n",
       "      <td>2021-12-15 00:00:00,000</td>\n",
       "      <td>2021-12-15 20:35:14,833</td>\n",
       "      <td>1899-12-30 08:30:00,000</td>\n",
       "      <td>1899-12-30 08:28:43,956</td>\n",
       "      <td>NaN</td>\n",
       "      <td>NaN</td>\n",
       "      <td>Будни</td>\n",
       "      <td>ОРГ1-00254</td>\n",
       "    </tr>\n",
       "    <tr>\n",
       "      <th>4</th>\n",
       "      <td>2021-12-15 00:00:00,000</td>\n",
       "      <td>2021-12-15 17:32:16,913</td>\n",
       "      <td>1899-12-30 08:30:00,000</td>\n",
       "      <td>1899-12-30 08:16:02,896</td>\n",
       "      <td>NaN</td>\n",
       "      <td>NaN</td>\n",
       "      <td>Будни</td>\n",
       "      <td>ОРГ1-02543</td>\n",
       "    </tr>\n",
       "  </tbody>\n",
       "</table>\n",
       "</div>"
      ],
      "text/plain": [
       "                   dateNum                maxLogOff  \\\n",
       "0  2021-12-15 00:00:00,000  2021-12-15 17:30:27,246   \n",
       "1  2021-12-15 00:00:00,000  2021-12-15 16:30:13,330   \n",
       "2  2021-12-15 00:00:00,000  2021-12-15 15:27:37,246   \n",
       "3  2021-12-15 00:00:00,000  2021-12-15 20:35:14,833   \n",
       "4  2021-12-15 00:00:00,000  2021-12-15 17:32:16,913   \n",
       "\n",
       "  Нормативное время начала раб.дня Фактич. время начала раб.дня  \\\n",
       "0          1899-12-30 08:30:00,000      1899-12-30 08:24:18,606   \n",
       "1          1899-12-30 08:30:00,000      1899-12-30 01:05:20,513   \n",
       "2          1899-12-30 08:30:00,000      1899-12-30 05:47:33,156   \n",
       "3          1899-12-30 08:30:00,000      1899-12-30 08:28:43,956   \n",
       "4          1899-12-30 08:30:00,000      1899-12-30 08:16:02,896   \n",
       "\n",
       "  Время опоздания Признак опоздания Вых/Будни          id  \n",
       "0             NaN               NaN     Будни  ОРГ1-02782  \n",
       "1             NaN               NaN     Будни  ОРГ1-01407  \n",
       "2             NaN               NaN     Будни  ОРГ1-01909  \n",
       "3             NaN               NaN     Будни  ОРГ1-00254  \n",
       "4             NaN               NaN     Будни  ОРГ1-02543  "
      ]
     },
     "execution_count": 33,
     "metadata": {},
     "output_type": "execute_result"
    }
   ],
   "source": [
    "late = pd.read_csv('ConnectionTime.csv')\n",
    "late.head()"
   ]
  },
  {
   "cell_type": "code",
   "execution_count": 34,
   "metadata": {},
   "outputs": [
    {
     "data": {
      "text/plain": [
       "dateNum                                  0\n",
       "maxLogOff                                0\n",
       "Нормативное время начала раб.дня         0\n",
       "Фактич. время начала раб.дня             0\n",
       "Время опоздания                     127561\n",
       "Признак опоздания                   153142\n",
       "Вых/Будни                                0\n",
       "id                                       0\n",
       "dtype: int64"
      ]
     },
     "execution_count": 34,
     "metadata": {},
     "output_type": "execute_result"
    }
   ],
   "source": [
    "late.isna().sum()"
   ]
  },
  {
   "cell_type": "code",
   "execution_count": 35,
   "metadata": {},
   "outputs": [
    {
     "data": {
      "text/plain": [
       "dateNum                             object\n",
       "maxLogOff                           object\n",
       "Нормативное время начала раб.дня    object\n",
       "Фактич. время начала раб.дня        object\n",
       "Время опоздания                     object\n",
       "Признак опоздания                   object\n",
       "Вых/Будни                           object\n",
       "id                                  object\n",
       "dtype: object"
      ]
     },
     "execution_count": 35,
     "metadata": {},
     "output_type": "execute_result"
    }
   ],
   "source": [
    "late.dtypes"
   ]
  },
  {
   "cell_type": "markdown",
   "metadata": {},
   "source": [
    "Скорректируем типы данных по колонкам с датой-временем и временем опоздания"
   ]
  },
  {
   "cell_type": "code",
   "execution_count": 36,
   "metadata": {},
   "outputs": [],
   "source": [
    "late['Время опоздания'] = late['Время опоздания'].apply(lambda x: str(x).replace(',', '.'))\n",
    "late['Время опоздания'] = late['Время опоздания'].astype('float')\n",
    "\n",
    "late['Нормативное время начала раб.дня'] = pd.to_datetime(late['Нормативное время начала раб.дня'])\n",
    "late['Фактич. время начала раб.дня'] = pd.to_datetime(late['Фактич. время начала раб.дня'])\n",
    "late['maxLogOff'] = pd.to_datetime(late['maxLogOff'])\n",
    "late['dateNum'] = pd.to_datetime(late['dateNum'])"
   ]
  },
  {
   "cell_type": "code",
   "execution_count": 37,
   "metadata": {},
   "outputs": [
    {
     "data": {
      "text/plain": [
       "52360"
      ]
     },
     "execution_count": 37,
     "metadata": {},
     "output_type": "execute_result"
    }
   ],
   "source": [
    "# строки не уникальны по паре ид - дата (оставим только самые ранние данные для каждого ид и дня)\n",
    "late.duplicated(['id', 'dateNum']).sum()"
   ]
  },
  {
   "cell_type": "code",
   "execution_count": 38,
   "metadata": {},
   "outputs": [],
   "source": [
    "late = late.sort_values(['id', 'dateNum', 'Фактич. время начала раб.дня']).drop_duplicates(['id', 'dateNum'], keep='first')"
   ]
  },
  {
   "cell_type": "code",
   "execution_count": 39,
   "metadata": {},
   "outputs": [
    {
     "data": {
      "text/html": [
       "<div>\n",
       "<style scoped>\n",
       "    .dataframe tbody tr th:only-of-type {\n",
       "        vertical-align: middle;\n",
       "    }\n",
       "\n",
       "    .dataframe tbody tr th {\n",
       "        vertical-align: top;\n",
       "    }\n",
       "\n",
       "    .dataframe thead th {\n",
       "        text-align: right;\n",
       "    }\n",
       "</style>\n",
       "<table border=\"1\" class=\"dataframe\">\n",
       "  <thead>\n",
       "    <tr style=\"text-align: right;\">\n",
       "      <th></th>\n",
       "      <th>dateNum</th>\n",
       "      <th>maxLogOff</th>\n",
       "      <th>Нормативное время начала раб.дня</th>\n",
       "      <th>Фактич. время начала раб.дня</th>\n",
       "      <th>Время опоздания</th>\n",
       "      <th>Признак опоздания</th>\n",
       "      <th>Вых/Будни</th>\n",
       "      <th>id</th>\n",
       "    </tr>\n",
       "  </thead>\n",
       "  <tbody>\n",
       "    <tr>\n",
       "      <th>171924</th>\n",
       "      <td>2021-06-21</td>\n",
       "      <td>2021-06-21 18:52:17.730</td>\n",
       "      <td>1899-12-30 08:30:00</td>\n",
       "      <td>1899-12-30 08:46:00.716</td>\n",
       "      <td>0.266866</td>\n",
       "      <td>1</td>\n",
       "      <td>Будни</td>\n",
       "      <td>ОРГ1-00004</td>\n",
       "    </tr>\n",
       "    <tr>\n",
       "      <th>148474</th>\n",
       "      <td>2021-06-22</td>\n",
       "      <td>2021-06-22 18:29:59.000</td>\n",
       "      <td>1899-12-30 08:30:00</td>\n",
       "      <td>1899-12-30 08:33:42.583</td>\n",
       "      <td>0.061829</td>\n",
       "      <td>0</td>\n",
       "      <td>Будни</td>\n",
       "      <td>ОРГ1-00004</td>\n",
       "    </tr>\n",
       "    <tr>\n",
       "      <th>149721</th>\n",
       "      <td>2021-06-23</td>\n",
       "      <td>2021-06-23 18:53:07.696</td>\n",
       "      <td>1899-12-30 08:30:00</td>\n",
       "      <td>1899-12-30 08:36:47.690</td>\n",
       "      <td>0.113247</td>\n",
       "      <td>0</td>\n",
       "      <td>Будни</td>\n",
       "      <td>ОРГ1-00004</td>\n",
       "    </tr>\n",
       "    <tr>\n",
       "      <th>84955</th>\n",
       "      <td>2021-06-24</td>\n",
       "      <td>2021-06-24 18:21:01.880</td>\n",
       "      <td>1899-12-30 08:30:00</td>\n",
       "      <td>1899-12-30 08:29:50.333</td>\n",
       "      <td>0.000000</td>\n",
       "      <td>0</td>\n",
       "      <td>Будни</td>\n",
       "      <td>ОРГ1-00004</td>\n",
       "    </tr>\n",
       "    <tr>\n",
       "      <th>93011</th>\n",
       "      <td>2021-06-25</td>\n",
       "      <td>2021-06-25 17:50:45.690</td>\n",
       "      <td>1899-12-30 08:30:00</td>\n",
       "      <td>1899-12-30 08:27:45.113</td>\n",
       "      <td>0.000000</td>\n",
       "      <td>0</td>\n",
       "      <td>Будни</td>\n",
       "      <td>ОРГ1-00004</td>\n",
       "    </tr>\n",
       "  </tbody>\n",
       "</table>\n",
       "</div>"
      ],
      "text/plain": [
       "          dateNum               maxLogOff Нормативное время начала раб.дня  \\\n",
       "171924 2021-06-21 2021-06-21 18:52:17.730              1899-12-30 08:30:00   \n",
       "148474 2021-06-22 2021-06-22 18:29:59.000              1899-12-30 08:30:00   \n",
       "149721 2021-06-23 2021-06-23 18:53:07.696              1899-12-30 08:30:00   \n",
       "84955  2021-06-24 2021-06-24 18:21:01.880              1899-12-30 08:30:00   \n",
       "93011  2021-06-25 2021-06-25 17:50:45.690              1899-12-30 08:30:00   \n",
       "\n",
       "       Фактич. время начала раб.дня  Время опоздания  Признак опоздания  \\\n",
       "171924      1899-12-30 08:46:00.716         0.266866                  1   \n",
       "148474      1899-12-30 08:33:42.583         0.061829                  0   \n",
       "149721      1899-12-30 08:36:47.690         0.113247                  0   \n",
       "84955       1899-12-30 08:29:50.333         0.000000                  0   \n",
       "93011       1899-12-30 08:27:45.113         0.000000                  0   \n",
       "\n",
       "       Вых/Будни          id  \n",
       "171924     Будни  ОРГ1-00004  \n",
       "148474     Будни  ОРГ1-00004  \n",
       "149721     Будни  ОРГ1-00004  \n",
       "84955      Будни  ОРГ1-00004  \n",
       "93011      Будни  ОРГ1-00004  "
      ]
     },
     "execution_count": 39,
     "metadata": {},
     "output_type": "execute_result"
    }
   ],
   "source": [
    "late['Признак опоздания'] = late['Признак опоздания'].apply(lambda x: 1 if x == 'Опоздание' else 0)\n",
    "late['Время опоздания'] = late['Время опоздания'].fillna(0)\n",
    "late.head()"
   ]
  },
  {
   "cell_type": "code",
   "execution_count": 40,
   "metadata": {},
   "outputs": [],
   "source": [
    "late = late.groupby(['id', 'Вых/Будни'], as_index=False) \\\n",
    "            .agg({'Время опоздания': 'mean', 'Признак опоздания': 'mean'})\n",
    "late.columns = ['id', 'Вых/Будни', 'latetime_mean', 'latecnt_mean']\n",
    "late = late.pivot(index='id', columns='Вых/Будни', values=['latetime_mean', 'latecnt_mean']).reset_index()\n",
    "late.columns = ['id', 'latetime_mean_буд', 'latetime_mean_вых', 'latecnt_mean_буд', 'latecnt_mean_вых']"
   ]
  },
  {
   "cell_type": "code",
   "execution_count": 41,
   "metadata": {},
   "outputs": [
    {
     "name": "stderr",
     "output_type": "stream",
     "text": [
      "C:\\Users\\nasta\\anaconda3\\lib\\site-packages\\seaborn\\_decorators.py:36: FutureWarning: Pass the following variable as a keyword arg: x. From version 0.12, the only valid positional argument will be `data`, and passing other arguments without an explicit keyword will result in an error or misinterpretation.\n",
      "  warnings.warn(\n"
     ]
    },
    {
     "data": {
      "image/png": "[encoded data removed]",
      "text/plain": [
       "<Figure size 432x288 with 1 Axes>"
      ]
     },
     "metadata": {
      "needs_background": "light"
     },
     "output_type": "display_data"
    },
    {
     "name": "stderr",
     "output_type": "stream",
     "text": [
      "C:\\Users\\nasta\\anaconda3\\lib\\site-packages\\seaborn\\_decorators.py:36: FutureWarning: Pass the following variable as a keyword arg: x. From version 0.12, the only valid positional argument will be `data`, and passing other arguments without an explicit keyword will result in an error or misinterpretation.\n",
      "  warnings.warn(\n"
     ]
    },
    {
     "data": {
      "image/png": "[encoded data removed]",
      "text/plain": [
       "<Figure size 432x288 with 1 Axes>"
      ]
     },
     "metadata": {
      "needs_background": "light"
     },
     "output_type": "display_data"
    },
    {
     "name": "stderr",
     "output_type": "stream",
     "text": [
      "C:\\Users\\nasta\\anaconda3\\lib\\site-packages\\seaborn\\_decorators.py:36: FutureWarning: Pass the following variable as a keyword arg: x. From version 0.12, the only valid positional argument will be `data`, and passing other arguments without an explicit keyword will result in an error or misinterpretation.\n",
      "  warnings.warn(\n"
     ]
    },
    {
     "data": {
      "image/png": "[encoded data removed]",
      "text/plain": [
       "<Figure size 432x288 with 1 Axes>"
      ]
     },
     "metadata": {
      "needs_background": "light"
     },
     "output_type": "display_data"
    },
    {
     "name": "stderr",
     "output_type": "stream",
     "text": [
      "C:\\Users\\nasta\\anaconda3\\lib\\site-packages\\seaborn\\_decorators.py:36: FutureWarning: Pass the following variable as a keyword arg: x. From version 0.12, the only valid positional argument will be `data`, and passing other arguments without an explicit keyword will result in an error or misinterpretation.\n",
      "  warnings.warn(\n"
     ]
    },
    {
     "data": {
      "image/png": "[encoded data removed]",
      "text/plain": [
       "<Figure size 432x288 with 1 Axes>"
      ]
     },
     "metadata": {
      "needs_background": "light"
     },
     "output_type": "display_data"
    }
   ],
   "source": [
    "for col in late.columns[1:]:\n",
    "    sns.boxplot(late[col])\n",
    "    plt.show()"
   ]
  },
  {
   "cell_type": "code",
   "execution_count": 42,
   "metadata": {},
   "outputs": [
    {
     "name": "stdout",
     "output_type": "stream",
     "text": [
      "0.00    0.000000\n",
      "0.25    0.128746\n",
      "0.50    0.269262\n",
      "0.75    0.558819\n",
      "1.00    8.250858\n",
      "Name: latetime_mean_буд, dtype: float64\n",
      "0.00     0.000000\n",
      "0.25     0.460647\n",
      "0.50     2.447343\n",
      "0.75     5.635471\n",
      "1.00    15.374625\n",
      "Name: latetime_mean_вых, dtype: float64\n",
      "0.00    0.000000\n",
      "0.25    0.058824\n",
      "0.50    0.129032\n",
      "0.75    0.307692\n",
      "1.00    1.000000\n",
      "Name: latecnt_mean_буд, dtype: float64\n",
      "0.00    0.000000\n",
      "0.25    0.250000\n",
      "0.50    0.705882\n",
      "0.75    1.000000\n",
      "1.00    1.000000\n",
      "Name: latecnt_mean_вых, dtype: float64\n"
     ]
    }
   ],
   "source": [
    "for col in late.columns[1:]:\n",
    "    print(late[col].quantile([0, 0.25, 0.5, 0.75, 1]))"
   ]
  },
  {
   "cell_type": "code",
   "execution_count": 43,
   "metadata": {},
   "outputs": [
    {
     "data": {
      "text/html": [
       "<div>\n",
       "<style scoped>\n",
       "    .dataframe tbody tr th:only-of-type {\n",
       "        vertical-align: middle;\n",
       "    }\n",
       "\n",
       "    .dataframe tbody tr th {\n",
       "        vertical-align: top;\n",
       "    }\n",
       "\n",
       "    .dataframe thead th {\n",
       "        text-align: right;\n",
       "    }\n",
       "</style>\n",
       "<table border=\"1\" class=\"dataframe\">\n",
       "  <thead>\n",
       "    <tr style=\"text-align: right;\">\n",
       "      <th></th>\n",
       "      <th>id</th>\n",
       "      <th>latetime_mean_буд</th>\n",
       "      <th>latetime_mean_вых</th>\n",
       "      <th>latecnt_mean_буд</th>\n",
       "      <th>latecnt_mean_вых</th>\n",
       "    </tr>\n",
       "  </thead>\n",
       "  <tbody>\n",
       "    <tr>\n",
       "      <th>0</th>\n",
       "      <td>ОРГ1-00004</td>\n",
       "      <td>4</td>\n",
       "      <td>4</td>\n",
       "      <td>4</td>\n",
       "      <td>3</td>\n",
       "    </tr>\n",
       "    <tr>\n",
       "      <th>1</th>\n",
       "      <td>ОРГ1-00028</td>\n",
       "      <td>1</td>\n",
       "      <td>4</td>\n",
       "      <td>1</td>\n",
       "      <td>3</td>\n",
       "    </tr>\n",
       "    <tr>\n",
       "      <th>2</th>\n",
       "      <td>ОРГ1-00030</td>\n",
       "      <td>3</td>\n",
       "      <td>3</td>\n",
       "      <td>2</td>\n",
       "      <td>1</td>\n",
       "    </tr>\n",
       "    <tr>\n",
       "      <th>3</th>\n",
       "      <td>ОРГ1-00044</td>\n",
       "      <td>2</td>\n",
       "      <td>3</td>\n",
       "      <td>2</td>\n",
       "      <td>3</td>\n",
       "    </tr>\n",
       "    <tr>\n",
       "      <th>4</th>\n",
       "      <td>ОРГ1-00046</td>\n",
       "      <td>4</td>\n",
       "      <td>3</td>\n",
       "      <td>4</td>\n",
       "      <td>3</td>\n",
       "    </tr>\n",
       "  </tbody>\n",
       "</table>\n",
       "</div>"
      ],
      "text/plain": [
       "           id latetime_mean_буд latetime_mean_вых latecnt_mean_буд  \\\n",
       "0  ОРГ1-00004                 4                 4                4   \n",
       "1  ОРГ1-00028                 1                 4                1   \n",
       "2  ОРГ1-00030                 3                 3                2   \n",
       "3  ОРГ1-00044                 2                 3                2   \n",
       "4  ОРГ1-00046                 4                 3                4   \n",
       "\n",
       "  latecnt_mean_вых  \n",
       "0                3  \n",
       "1                3  \n",
       "2                1  \n",
       "3                3  \n",
       "4                3  "
      ]
     },
     "execution_count": 43,
     "metadata": {},
     "output_type": "execute_result"
    }
   ],
   "source": [
    "for col in late.columns[1:4]:\n",
    "    bins = late[col].quantile([0, 0.25, 0.5, 0.75, 1])\n",
    "    late[col] = pd.cut(late[col], bins, labels=[1, 2, 3, 4])\n",
    "late['latecnt_mean_вых'] = pd.cut(late['latecnt_mean_вых'], 3, labels = [1, 2, 3])\n",
    "late.head()"
   ]
  },
  {
   "cell_type": "code",
   "execution_count": 44,
   "metadata": {},
   "outputs": [],
   "source": [
    "df = df.merge(late, on='id', how='outer')"
   ]
  },
  {
   "cell_type": "markdown",
   "metadata": {},
   "source": [
    "#### SKUD"
   ]
  },
  {
   "cell_type": "code",
   "execution_count": 45,
   "metadata": {},
   "outputs": [
    {
     "data": {
      "text/html": [
       "<div>\n",
       "<style scoped>\n",
       "    .dataframe tbody tr th:only-of-type {\n",
       "        vertical-align: middle;\n",
       "    }\n",
       "\n",
       "    .dataframe tbody tr th {\n",
       "        vertical-align: top;\n",
       "    }\n",
       "\n",
       "    .dataframe thead th {\n",
       "        text-align: right;\n",
       "    }\n",
       "</style>\n",
       "<table border=\"1\" class=\"dataframe\">\n",
       "  <thead>\n",
       "    <tr style=\"text-align: right;\">\n",
       "      <th></th>\n",
       "      <th>Дата</th>\n",
       "      <th>Приход.1</th>\n",
       "      <th>Уход.1</th>\n",
       "      <th>Длительность общая</th>\n",
       "      <th>Длительность раб.дня без обеда</th>\n",
       "      <th>Вых/Будни</th>\n",
       "      <th>id</th>\n",
       "    </tr>\n",
       "  </thead>\n",
       "  <tbody>\n",
       "    <tr>\n",
       "      <th>0</th>\n",
       "      <td>2021-03-01 00:00:00,000</td>\n",
       "      <td>1899-12-30 08:11:00,000</td>\n",
       "      <td>1899-12-30 17:32:00,000</td>\n",
       "      <td>9,35</td>\n",
       "      <td>8,35</td>\n",
       "      <td>Будни</td>\n",
       "      <td>ОРГ1-00791</td>\n",
       "    </tr>\n",
       "    <tr>\n",
       "      <th>1</th>\n",
       "      <td>2021-03-01 00:00:00,000</td>\n",
       "      <td>1899-12-30 08:25:00,000</td>\n",
       "      <td>1899-12-30 17:32:00,000</td>\n",
       "      <td>9,1166666666666671</td>\n",
       "      <td>8,1166666666666671</td>\n",
       "      <td>Будни</td>\n",
       "      <td>ОРГ1-01826</td>\n",
       "    </tr>\n",
       "    <tr>\n",
       "      <th>2</th>\n",
       "      <td>2021-03-01 00:00:00,000</td>\n",
       "      <td>1899-12-30 08:31:00,000</td>\n",
       "      <td>1899-12-30 17:32:00,000</td>\n",
       "      <td>9,0166666666666657</td>\n",
       "      <td>8,0166666666666657</td>\n",
       "      <td>Будни</td>\n",
       "      <td>ОРГ1-00713</td>\n",
       "    </tr>\n",
       "    <tr>\n",
       "      <th>3</th>\n",
       "      <td>2021-03-01 00:00:00,000</td>\n",
       "      <td>1899-12-30 08:31:00,000</td>\n",
       "      <td>1899-12-30 17:32:00,000</td>\n",
       "      <td>9,0166666666666657</td>\n",
       "      <td>8,0166666666666657</td>\n",
       "      <td>Будни</td>\n",
       "      <td>ОРГ1-02127</td>\n",
       "    </tr>\n",
       "    <tr>\n",
       "      <th>4</th>\n",
       "      <td>2021-03-01 00:00:00,000</td>\n",
       "      <td>1899-12-30 08:19:00,000</td>\n",
       "      <td>1899-12-30 17:32:00,000</td>\n",
       "      <td>9,2166666666666668</td>\n",
       "      <td>8,2166666666666668</td>\n",
       "      <td>Будни</td>\n",
       "      <td>ОРГ1-01739</td>\n",
       "    </tr>\n",
       "  </tbody>\n",
       "</table>\n",
       "</div>"
      ],
      "text/plain": [
       "                      Дата                 Приход.1                   Уход.1  \\\n",
       "0  2021-03-01 00:00:00,000  1899-12-30 08:11:00,000  1899-12-30 17:32:00,000   \n",
       "1  2021-03-01 00:00:00,000  1899-12-30 08:25:00,000  1899-12-30 17:32:00,000   \n",
       "2  2021-03-01 00:00:00,000  1899-12-30 08:31:00,000  1899-12-30 17:32:00,000   \n",
       "3  2021-03-01 00:00:00,000  1899-12-30 08:31:00,000  1899-12-30 17:32:00,000   \n",
       "4  2021-03-01 00:00:00,000  1899-12-30 08:19:00,000  1899-12-30 17:32:00,000   \n",
       "\n",
       "   Длительность общая Длительность раб.дня без обеда Вых/Будни          id  \n",
       "0                9,35                           8,35     Будни  ОРГ1-00791  \n",
       "1  9,1166666666666671             8,1166666666666671     Будни  ОРГ1-01826  \n",
       "2  9,0166666666666657             8,0166666666666657     Будни  ОРГ1-00713  \n",
       "3  9,0166666666666657             8,0166666666666657     Будни  ОРГ1-02127  \n",
       "4  9,2166666666666668             8,2166666666666668     Будни  ОРГ1-01739  "
      ]
     },
     "execution_count": 45,
     "metadata": {},
     "output_type": "execute_result"
    }
   ],
   "source": [
    "skud = pd.read_csv('SKUD.csv')\n",
    "skud.head()"
   ]
  },
  {
   "cell_type": "code",
   "execution_count": 46,
   "metadata": {},
   "outputs": [
    {
     "data": {
      "text/plain": [
       "Дата                              object\n",
       "Приход.1                          object\n",
       "Уход.1                            object\n",
       "Длительность общая                object\n",
       "Длительность раб.дня без обеда    object\n",
       "Вых/Будни                         object\n",
       "id                                object\n",
       "dtype: object"
      ]
     },
     "execution_count": 46,
     "metadata": {},
     "output_type": "execute_result"
    }
   ],
   "source": [
    "skud.dtypes"
   ]
  },
  {
   "cell_type": "code",
   "execution_count": 47,
   "metadata": {},
   "outputs": [
    {
     "data": {
      "text/plain": [
       "792"
      ]
     },
     "execution_count": 47,
     "metadata": {},
     "output_type": "execute_result"
    }
   ],
   "source": [
    "skud.duplicated(['id', 'Дата']).sum()"
   ]
  },
  {
   "cell_type": "code",
   "execution_count": 48,
   "metadata": {},
   "outputs": [
    {
     "data": {
      "text/html": [
       "<div>\n",
       "<style scoped>\n",
       "    .dataframe tbody tr th:only-of-type {\n",
       "        vertical-align: middle;\n",
       "    }\n",
       "\n",
       "    .dataframe tbody tr th {\n",
       "        vertical-align: top;\n",
       "    }\n",
       "\n",
       "    .dataframe thead th {\n",
       "        text-align: right;\n",
       "    }\n",
       "</style>\n",
       "<table border=\"1\" class=\"dataframe\">\n",
       "  <thead>\n",
       "    <tr style=\"text-align: right;\">\n",
       "      <th></th>\n",
       "      <th>Дата</th>\n",
       "      <th>Приход.1</th>\n",
       "      <th>Уход.1</th>\n",
       "      <th>Длительность общая</th>\n",
       "      <th>Длительность раб.дня без обеда</th>\n",
       "      <th>Вых/Будни</th>\n",
       "      <th>id</th>\n",
       "    </tr>\n",
       "  </thead>\n",
       "  <tbody>\n",
       "    <tr>\n",
       "      <th>16242</th>\n",
       "      <td>2021-03-01 00:00:00,000</td>\n",
       "      <td>1899-12-30 08:10:00,000</td>\n",
       "      <td>1899-12-30 19:16:00,000</td>\n",
       "      <td>11,1</td>\n",
       "      <td>10,1</td>\n",
       "      <td>Будни</td>\n",
       "      <td>ОРГ1-00002</td>\n",
       "    </tr>\n",
       "    <tr>\n",
       "      <th>17388</th>\n",
       "      <td>2021-03-02 00:00:00,000</td>\n",
       "      <td>1899-12-30 08:15:00,000</td>\n",
       "      <td>1899-12-30 22:23:00,000</td>\n",
       "      <td>14,133333333333333</td>\n",
       "      <td>12,133333333333333</td>\n",
       "      <td>Будни</td>\n",
       "      <td>ОРГ1-00002</td>\n",
       "    </tr>\n",
       "    <tr>\n",
       "      <th>15973</th>\n",
       "      <td>2021-03-03 00:00:00,000</td>\n",
       "      <td>1899-12-30 08:12:00,000</td>\n",
       "      <td>1899-12-30 19:07:00,000</td>\n",
       "      <td>10,916666666666666</td>\n",
       "      <td>9,9166666666666661</td>\n",
       "      <td>Будни</td>\n",
       "      <td>ОРГ1-00002</td>\n",
       "    </tr>\n",
       "  </tbody>\n",
       "</table>\n",
       "</div>"
      ],
      "text/plain": [
       "                          Дата                 Приход.1  \\\n",
       "16242  2021-03-01 00:00:00,000  1899-12-30 08:10:00,000   \n",
       "17388  2021-03-02 00:00:00,000  1899-12-30 08:15:00,000   \n",
       "15973  2021-03-03 00:00:00,000  1899-12-30 08:12:00,000   \n",
       "\n",
       "                        Уход.1  Длительность общая  \\\n",
       "16242  1899-12-30 19:16:00,000                11,1   \n",
       "17388  1899-12-30 22:23:00,000  14,133333333333333   \n",
       "15973  1899-12-30 19:07:00,000  10,916666666666666   \n",
       "\n",
       "      Длительность раб.дня без обеда Вых/Будни          id  \n",
       "16242                           10,1     Будни  ОРГ1-00002  \n",
       "17388             12,133333333333333     Будни  ОРГ1-00002  \n",
       "15973             9,9166666666666661     Будни  ОРГ1-00002  "
      ]
     },
     "execution_count": 48,
     "metadata": {},
     "output_type": "execute_result"
    }
   ],
   "source": [
    "skud = skud.sort_values(['id', 'Дата', 'Приход.1']).drop_duplicates(['id', 'Дата'], keep='first')\n",
    "skud.head(3)"
   ]
  },
  {
   "cell_type": "code",
   "execution_count": 49,
   "metadata": {},
   "outputs": [
    {
     "data": {
      "text/html": [
       "<div>\n",
       "<style scoped>\n",
       "    .dataframe tbody tr th:only-of-type {\n",
       "        vertical-align: middle;\n",
       "    }\n",
       "\n",
       "    .dataframe tbody tr th {\n",
       "        vertical-align: top;\n",
       "    }\n",
       "\n",
       "    .dataframe thead th {\n",
       "        text-align: right;\n",
       "    }\n",
       "</style>\n",
       "<table border=\"1\" class=\"dataframe\">\n",
       "  <thead>\n",
       "    <tr style=\"text-align: right;\">\n",
       "      <th></th>\n",
       "      <th>id</th>\n",
       "      <th>Вых/Будни</th>\n",
       "      <th>Длительность общая</th>\n",
       "    </tr>\n",
       "  </thead>\n",
       "  <tbody>\n",
       "    <tr>\n",
       "      <th>0</th>\n",
       "      <td>ОРГ1-00002</td>\n",
       "      <td>Будни</td>\n",
       "      <td>11.312500</td>\n",
       "    </tr>\n",
       "    <tr>\n",
       "      <th>1</th>\n",
       "      <td>ОРГ1-00004</td>\n",
       "      <td>Будни</td>\n",
       "      <td>9.353646</td>\n",
       "    </tr>\n",
       "    <tr>\n",
       "      <th>2</th>\n",
       "      <td>ОРГ1-00005</td>\n",
       "      <td>Будни</td>\n",
       "      <td>9.719444</td>\n",
       "    </tr>\n",
       "    <tr>\n",
       "      <th>3</th>\n",
       "      <td>ОРГ1-00005</td>\n",
       "      <td>Выходные дни</td>\n",
       "      <td>6.210000</td>\n",
       "    </tr>\n",
       "    <tr>\n",
       "      <th>4</th>\n",
       "      <td>ОРГ1-00008</td>\n",
       "      <td>Будни</td>\n",
       "      <td>5.428571</td>\n",
       "    </tr>\n",
       "  </tbody>\n",
       "</table>\n",
       "</div>"
      ],
      "text/plain": [
       "           id     Вых/Будни  Длительность общая\n",
       "0  ОРГ1-00002         Будни           11.312500\n",
       "1  ОРГ1-00004         Будни            9.353646\n",
       "2  ОРГ1-00005         Будни            9.719444\n",
       "3  ОРГ1-00005  Выходные дни            6.210000\n",
       "4  ОРГ1-00008         Будни            5.428571"
      ]
     },
     "execution_count": 49,
     "metadata": {},
     "output_type": "execute_result"
    }
   ],
   "source": [
    "skud['Длительность общая'] = skud['Длительность общая'].apply(lambda x: x.replace(',', '.')).astype('float')\n",
    "skud = skud.groupby(['id', 'Вых/Будни'], as_index=False) \\\n",
    "    .agg({'Длительность общая': 'mean'})\n",
    "skud.head()"
   ]
  },
  {
   "cell_type": "code",
   "execution_count": 50,
   "metadata": {},
   "outputs": [
    {
     "data": {
      "text/html": [
       "<div>\n",
       "<style scoped>\n",
       "    .dataframe tbody tr th:only-of-type {\n",
       "        vertical-align: middle;\n",
       "    }\n",
       "\n",
       "    .dataframe tbody tr th {\n",
       "        vertical-align: top;\n",
       "    }\n",
       "\n",
       "    .dataframe thead th {\n",
       "        text-align: right;\n",
       "    }\n",
       "</style>\n",
       "<table border=\"1\" class=\"dataframe\">\n",
       "  <thead>\n",
       "    <tr style=\"text-align: right;\">\n",
       "      <th></th>\n",
       "      <th>id</th>\n",
       "      <th>Длительность_дня_буд</th>\n",
       "      <th>Длительность_дня_вых</th>\n",
       "    </tr>\n",
       "  </thead>\n",
       "  <tbody>\n",
       "    <tr>\n",
       "      <th>0</th>\n",
       "      <td>ОРГ1-00002</td>\n",
       "      <td>11.312500</td>\n",
       "      <td>NaN</td>\n",
       "    </tr>\n",
       "    <tr>\n",
       "      <th>1</th>\n",
       "      <td>ОРГ1-00004</td>\n",
       "      <td>9.353646</td>\n",
       "      <td>NaN</td>\n",
       "    </tr>\n",
       "    <tr>\n",
       "      <th>2</th>\n",
       "      <td>ОРГ1-00005</td>\n",
       "      <td>9.719444</td>\n",
       "      <td>6.21</td>\n",
       "    </tr>\n",
       "  </tbody>\n",
       "</table>\n",
       "</div>"
      ],
      "text/plain": [
       "           id  Длительность_дня_буд  Длительность_дня_вых\n",
       "0  ОРГ1-00002             11.312500                   NaN\n",
       "1  ОРГ1-00004              9.353646                   NaN\n",
       "2  ОРГ1-00005              9.719444                  6.21"
      ]
     },
     "execution_count": 50,
     "metadata": {},
     "output_type": "execute_result"
    }
   ],
   "source": [
    "skud = skud.pivot(index='id', columns='Вых/Будни', values='Длительность общая').reset_index()\n",
    "skud.columns = ['id', 'Длительность_дня_буд', 'Длительность_дня_вых']\n",
    "skud.head(3)"
   ]
  },
  {
   "cell_type": "code",
   "execution_count": 51,
   "metadata": {},
   "outputs": [
    {
     "data": {
      "image/png": "[encoded data removed]",
      "text/plain": [
       "<Figure size 432x288 with 1 Axes>"
      ]
     },
     "metadata": {
      "needs_background": "light"
     },
     "output_type": "display_data"
    },
    {
     "data": {
      "text/plain": [
       "<AxesSubplot:xlabel='Длительность_дня_вых'>"
      ]
     },
     "execution_count": 51,
     "metadata": {},
     "output_type": "execute_result"
    },
    {
     "data": {
      "image/png": "[encoded data removed]",
      "text/plain": [
       "<Figure size 432x288 with 1 Axes>"
      ]
     },
     "metadata": {
      "needs_background": "light"
     },
     "output_type": "display_data"
    }
   ],
   "source": [
    "sns.boxplot(data=skud, x='Длительность_дня_буд')\n",
    "plt.show()\n",
    "sns.boxplot(data=skud, x='Длительность_дня_вых')"
   ]
  },
  {
   "cell_type": "code",
   "execution_count": 52,
   "metadata": {},
   "outputs": [
    {
     "data": {
      "text/html": [
       "<div>\n",
       "<style scoped>\n",
       "    .dataframe tbody tr th:only-of-type {\n",
       "        vertical-align: middle;\n",
       "    }\n",
       "\n",
       "    .dataframe tbody tr th {\n",
       "        vertical-align: top;\n",
       "    }\n",
       "\n",
       "    .dataframe thead th {\n",
       "        text-align: right;\n",
       "    }\n",
       "</style>\n",
       "<table border=\"1\" class=\"dataframe\">\n",
       "  <thead>\n",
       "    <tr style=\"text-align: right;\">\n",
       "      <th></th>\n",
       "      <th>id</th>\n",
       "      <th>Длительность_дня_буд</th>\n",
       "      <th>Длительность_дня_вых</th>\n",
       "    </tr>\n",
       "  </thead>\n",
       "  <tbody>\n",
       "    <tr>\n",
       "      <th>0</th>\n",
       "      <td>ОРГ1-00002</td>\n",
       "      <td>4</td>\n",
       "      <td>NaN</td>\n",
       "    </tr>\n",
       "    <tr>\n",
       "      <th>1</th>\n",
       "      <td>ОРГ1-00004</td>\n",
       "      <td>2</td>\n",
       "      <td>NaN</td>\n",
       "    </tr>\n",
       "    <tr>\n",
       "      <th>2</th>\n",
       "      <td>ОРГ1-00005</td>\n",
       "      <td>3</td>\n",
       "      <td>3</td>\n",
       "    </tr>\n",
       "    <tr>\n",
       "      <th>3</th>\n",
       "      <td>ОРГ1-00008</td>\n",
       "      <td>1</td>\n",
       "      <td>NaN</td>\n",
       "    </tr>\n",
       "    <tr>\n",
       "      <th>4</th>\n",
       "      <td>ОРГ1-00010</td>\n",
       "      <td>1</td>\n",
       "      <td>1</td>\n",
       "    </tr>\n",
       "  </tbody>\n",
       "</table>\n",
       "</div>"
      ],
      "text/plain": [
       "           id Длительность_дня_буд Длительность_дня_вых\n",
       "0  ОРГ1-00002                    4                  NaN\n",
       "1  ОРГ1-00004                    2                  NaN\n",
       "2  ОРГ1-00005                    3                    3\n",
       "3  ОРГ1-00008                    1                  NaN\n",
       "4  ОРГ1-00010                    1                    1"
      ]
     },
     "execution_count": 52,
     "metadata": {},
     "output_type": "execute_result"
    }
   ],
   "source": [
    "for col in skud.columns[1:]:\n",
    "    bins = skud[col].quantile([0, 0.25, 0.5, 0.75, 1])\n",
    "    skud[col] = pd.cut(skud[col], bins, labels=[1, 2, 3, 4])\n",
    "skud.head()"
   ]
  },
  {
   "cell_type": "code",
   "execution_count": 53,
   "metadata": {},
   "outputs": [],
   "source": [
    "df = df.merge(skud, on='id', how='outer')"
   ]
  },
  {
   "cell_type": "markdown",
   "metadata": {},
   "source": [
    "#### Задания"
   ]
  },
  {
   "cell_type": "code",
   "execution_count": 54,
   "metadata": {},
   "outputs": [
    {
     "name": "stderr",
     "output_type": "stream",
     "text": [
      "C:\\Users\\nasta\\AppData\\Local\\Temp\\ipykernel_16004\\497200217.py:1: DtypeWarning: Columns (1,7) have mixed types. Specify dtype option on import or set low_memory=False.\n",
      "  tasks = pd.read_csv('Tasks.csv')\n"
     ]
    },
    {
     "data": {
      "text/html": [
       "<div>\n",
       "<style scoped>\n",
       "    .dataframe tbody tr th:only-of-type {\n",
       "        vertical-align: middle;\n",
       "    }\n",
       "\n",
       "    .dataframe tbody tr th {\n",
       "        vertical-align: top;\n",
       "    }\n",
       "\n",
       "    .dataframe thead th {\n",
       "        text-align: right;\n",
       "    }\n",
       "</style>\n",
       "<table border=\"1\" class=\"dataframe\">\n",
       "  <thead>\n",
       "    <tr style=\"text-align: right;\">\n",
       "      <th></th>\n",
       "      <th>Статус по просрочке</th>\n",
       "      <th>Срок плановый</th>\n",
       "      <th>Просрочено, дней</th>\n",
       "      <th>ДлительностьПросрочки</th>\n",
       "      <th>ID задачи</th>\n",
       "      <th>Вид документа</th>\n",
       "      <th>Дата старта задания</th>\n",
       "      <th>Дата завершения задания плановая</th>\n",
       "      <th>Дата завершения задания фактическая</th>\n",
       "      <th>Состояние задания</th>\n",
       "      <th>id</th>\n",
       "    </tr>\n",
       "  </thead>\n",
       "  <tbody>\n",
       "    <tr>\n",
       "      <th>0</th>\n",
       "      <td>Без нарушения срока</td>\n",
       "      <td>NaN</td>\n",
       "      <td>0</td>\n",
       "      <td>без нарушения срока</td>\n",
       "      <td>E1DE844D-EE2D-4C41-AEDF-93F246749F0E</td>\n",
       "      <td>Служебная записка</td>\n",
       "      <td>2021-12-10 00:00:00,000</td>\n",
       "      <td>NaN</td>\n",
       "      <td>2021-12-10 00:00:00,000</td>\n",
       "      <td>Завершено</td>\n",
       "      <td>ОРГ1-02588</td>\n",
       "    </tr>\n",
       "    <tr>\n",
       "      <th>1</th>\n",
       "      <td>Без нарушения срока</td>\n",
       "      <td>NaN</td>\n",
       "      <td>0</td>\n",
       "      <td>без нарушения срока</td>\n",
       "      <td>7A92343C-8C9A-46E7-AC81-8F50F95009D0</td>\n",
       "      <td>Служебная записка</td>\n",
       "      <td>2021-12-10 00:00:00,000</td>\n",
       "      <td>NaN</td>\n",
       "      <td>2021-12-10 00:00:00,000</td>\n",
       "      <td>Завершено</td>\n",
       "      <td>ОРГ1-02588</td>\n",
       "    </tr>\n",
       "    <tr>\n",
       "      <th>2</th>\n",
       "      <td>Без нарушения срока</td>\n",
       "      <td>NaN</td>\n",
       "      <td>0</td>\n",
       "      <td>без нарушения срока</td>\n",
       "      <td>5CE64E52-D2D1-4DCC-B2C8-34734AA39AC0</td>\n",
       "      <td>Служебная записка</td>\n",
       "      <td>2021-12-10 00:00:00,000</td>\n",
       "      <td>NaN</td>\n",
       "      <td>2021-12-10 00:00:00,000</td>\n",
       "      <td>Завершено</td>\n",
       "      <td>ОРГ1-02588</td>\n",
       "    </tr>\n",
       "    <tr>\n",
       "      <th>3</th>\n",
       "      <td>Без нарушения срока</td>\n",
       "      <td>NaN</td>\n",
       "      <td>0</td>\n",
       "      <td>без нарушения срока</td>\n",
       "      <td>7A28F3DD-983F-4127-AB7F-6EDB85A69F1C</td>\n",
       "      <td>Служебная записка</td>\n",
       "      <td>2021-12-10 00:00:00,000</td>\n",
       "      <td>NaN</td>\n",
       "      <td>2021-12-10 00:00:00,000</td>\n",
       "      <td>Завершено</td>\n",
       "      <td>ОРГ1-02588</td>\n",
       "    </tr>\n",
       "    <tr>\n",
       "      <th>4</th>\n",
       "      <td>Без нарушения срока</td>\n",
       "      <td>NaN</td>\n",
       "      <td>0</td>\n",
       "      <td>без нарушения срока</td>\n",
       "      <td>ABFFAF61-12D8-44C2-B1F6-8402D174889E</td>\n",
       "      <td>Служебная записка</td>\n",
       "      <td>2021-12-10 00:00:00,000</td>\n",
       "      <td>NaN</td>\n",
       "      <td>2021-12-10 00:00:00,000</td>\n",
       "      <td>Завершено</td>\n",
       "      <td>ОРГ1-02588</td>\n",
       "    </tr>\n",
       "  </tbody>\n",
       "</table>\n",
       "</div>"
      ],
      "text/plain": [
       "   Статус по просрочке Срок плановый  Просрочено, дней ДлительностьПросрочки  \\\n",
       "0  Без нарушения срока           NaN                 0   без нарушения срока   \n",
       "1  Без нарушения срока           NaN                 0   без нарушения срока   \n",
       "2  Без нарушения срока           NaN                 0   без нарушения срока   \n",
       "3  Без нарушения срока           NaN                 0   без нарушения срока   \n",
       "4  Без нарушения срока           NaN                 0   без нарушения срока   \n",
       "\n",
       "                              ID задачи      Вид документа  \\\n",
       "0  E1DE844D-EE2D-4C41-AEDF-93F246749F0E  Служебная записка   \n",
       "1  7A92343C-8C9A-46E7-AC81-8F50F95009D0  Служебная записка   \n",
       "2  5CE64E52-D2D1-4DCC-B2C8-34734AA39AC0  Служебная записка   \n",
       "3  7A28F3DD-983F-4127-AB7F-6EDB85A69F1C  Служебная записка   \n",
       "4  ABFFAF61-12D8-44C2-B1F6-8402D174889E  Служебная записка   \n",
       "\n",
       "       Дата старта задания Дата завершения задания плановая  \\\n",
       "0  2021-12-10 00:00:00,000                              NaN   \n",
       "1  2021-12-10 00:00:00,000                              NaN   \n",
       "2  2021-12-10 00:00:00,000                              NaN   \n",
       "3  2021-12-10 00:00:00,000                              NaN   \n",
       "4  2021-12-10 00:00:00,000                              NaN   \n",
       "\n",
       "  Дата завершения задания фактическая Состояние задания          id  \n",
       "0             2021-12-10 00:00:00,000         Завершено  ОРГ1-02588  \n",
       "1             2021-12-10 00:00:00,000         Завершено  ОРГ1-02588  \n",
       "2             2021-12-10 00:00:00,000         Завершено  ОРГ1-02588  \n",
       "3             2021-12-10 00:00:00,000         Завершено  ОРГ1-02588  \n",
       "4             2021-12-10 00:00:00,000         Завершено  ОРГ1-02588  "
      ]
     },
     "execution_count": 54,
     "metadata": {},
     "output_type": "execute_result"
    }
   ],
   "source": [
    "tasks = pd.read_csv('Tasks.csv')\n",
    "tasks.head()"
   ]
  },
  {
   "cell_type": "code",
   "execution_count": 55,
   "metadata": {},
   "outputs": [
    {
     "data": {
      "text/plain": [
       "Статус по просрочке                         0\n",
       "Срок плановый                          520839\n",
       "Просрочено, дней                            0\n",
       "ДлительностьПросрочки                       0\n",
       "ID задачи                                   0\n",
       "Вид документа                            3517\n",
       "Дата старта задания                         0\n",
       "Дата завершения задания плановая       262603\n",
       "Дата завершения задания фактическая     15977\n",
       "Состояние задания                           0\n",
       "id                                          0\n",
       "dtype: int64"
      ]
     },
     "execution_count": 55,
     "metadata": {},
     "output_type": "execute_result"
    }
   ],
   "source": [
    "tasks.isna().sum()"
   ]
  },
  {
   "cell_type": "code",
   "execution_count": 56,
   "metadata": {},
   "outputs": [
    {
     "data": {
      "text/plain": [
       "Без нарушения срока    454148\n",
       "С нарушением срока      82512\n",
       "Name: Статус по просрочке, dtype: int64"
      ]
     },
     "execution_count": 56,
     "metadata": {},
     "output_type": "execute_result"
    }
   ],
   "source": [
    "tasks['Статус по просрочке'].value_counts(dropna=False)"
   ]
  },
  {
   "cell_type": "code",
   "execution_count": 57,
   "metadata": {},
   "outputs": [
    {
     "data": {
      "text/plain": [
       "без нарушения срока    454148\n",
       "более 30 дней           34620\n",
       "до 7 дней               31984\n",
       "до 30 дней              15908\n",
       "Name: ДлительностьПросрочки, dtype: int64"
      ]
     },
     "execution_count": 57,
     "metadata": {},
     "output_type": "execute_result"
    }
   ],
   "source": [
    "tasks['ДлительностьПросрочки'].value_counts(dropna=False)"
   ]
  },
  {
   "cell_type": "code",
   "execution_count": 58,
   "metadata": {},
   "outputs": [
    {
     "data": {
      "text/plain": [
       "Завершено                  520779\n",
       "Не начато                    7842\n",
       "В работе                     7571\n",
       "Делегировано                  344\n",
       "На приёмке                     60\n",
       "Отложено                       55\n",
       "Возврат с делегирования         9\n",
       "Name: Состояние задания, dtype: int64"
      ]
     },
     "execution_count": 58,
     "metadata": {},
     "output_type": "execute_result"
    }
   ],
   "source": [
    "tasks['Состояние задания'].value_counts(dropna=False)"
   ]
  },
  {
   "cell_type": "code",
   "execution_count": 59,
   "metadata": {},
   "outputs": [],
   "source": [
    "# рассмотрим только завершенные задания\n",
    "tasks = tasks[tasks['Состояние задания'] == 'Завершено']"
   ]
  },
  {
   "cell_type": "code",
   "execution_count": 60,
   "metadata": {},
   "outputs": [],
   "source": [
    "tasks_by_user = tasks.groupby(['id'], as_index=False).agg({'ID задачи': 'count'}).rename(columns={'ID задачи': 'Всего_задач'})"
   ]
  },
  {
   "cell_type": "code",
   "execution_count": 61,
   "metadata": {},
   "outputs": [],
   "source": [
    "tasks_late = tasks.groupby(['id', 'ДлительностьПросрочки'], as_index=False).agg({'ID задачи': 'count'}).rename(columns={'ID задачи': 'Задач'})"
   ]
  },
  {
   "cell_type": "code",
   "execution_count": 62,
   "metadata": {},
   "outputs": [],
   "source": [
    "tasks = tasks_by_user.merge(tasks_late, on='id', how='left')\n",
    "tasks['Доля_выполненных_задач'] = tasks['Задач'] / tasks['Всего_задач']"
   ]
  },
  {
   "cell_type": "code",
   "execution_count": 63,
   "metadata": {},
   "outputs": [
    {
     "data": {
      "text/html": [
       "<div>\n",
       "<style scoped>\n",
       "    .dataframe tbody tr th:only-of-type {\n",
       "        vertical-align: middle;\n",
       "    }\n",
       "\n",
       "    .dataframe tbody tr th {\n",
       "        vertical-align: top;\n",
       "    }\n",
       "\n",
       "    .dataframe thead th {\n",
       "        text-align: right;\n",
       "    }\n",
       "</style>\n",
       "<table border=\"1\" class=\"dataframe\">\n",
       "  <thead>\n",
       "    <tr style=\"text-align: right;\">\n",
       "      <th></th>\n",
       "      <th>id</th>\n",
       "      <th>Доля_задач_без_нарушения</th>\n",
       "      <th>Доля_задач_просрок_30</th>\n",
       "      <th>Доля_задач_просрок_до_30</th>\n",
       "      <th>Доля_задач_просрок_до_7</th>\n",
       "    </tr>\n",
       "  </thead>\n",
       "  <tbody>\n",
       "    <tr>\n",
       "      <th>0</th>\n",
       "      <td>ОРГ1-00004</td>\n",
       "      <td>0.915921</td>\n",
       "      <td>0.005367</td>\n",
       "      <td>0.017889</td>\n",
       "      <td>0.060823</td>\n",
       "    </tr>\n",
       "    <tr>\n",
       "      <th>1</th>\n",
       "      <td>ОРГ1-00005</td>\n",
       "      <td>0.974763</td>\n",
       "      <td>0.007661</td>\n",
       "      <td>0.005408</td>\n",
       "      <td>0.012168</td>\n",
       "    </tr>\n",
       "    <tr>\n",
       "      <th>2</th>\n",
       "      <td>ОРГ1-00028</td>\n",
       "      <td>0.962810</td>\n",
       "      <td>NaN</td>\n",
       "      <td>0.012397</td>\n",
       "      <td>0.024793</td>\n",
       "    </tr>\n",
       "    <tr>\n",
       "      <th>3</th>\n",
       "      <td>ОРГ1-00030</td>\n",
       "      <td>0.861111</td>\n",
       "      <td>NaN</td>\n",
       "      <td>0.027778</td>\n",
       "      <td>0.111111</td>\n",
       "    </tr>\n",
       "    <tr>\n",
       "      <th>4</th>\n",
       "      <td>ОРГ1-00044</td>\n",
       "      <td>0.713376</td>\n",
       "      <td>0.050955</td>\n",
       "      <td>0.073248</td>\n",
       "      <td>0.162420</td>\n",
       "    </tr>\n",
       "  </tbody>\n",
       "</table>\n",
       "</div>"
      ],
      "text/plain": [
       "           id  Доля_задач_без_нарушения  Доля_задач_просрок_30  \\\n",
       "0  ОРГ1-00004                  0.915921               0.005367   \n",
       "1  ОРГ1-00005                  0.974763               0.007661   \n",
       "2  ОРГ1-00028                  0.962810                    NaN   \n",
       "3  ОРГ1-00030                  0.861111                    NaN   \n",
       "4  ОРГ1-00044                  0.713376               0.050955   \n",
       "\n",
       "   Доля_задач_просрок_до_30  Доля_задач_просрок_до_7  \n",
       "0                  0.017889                 0.060823  \n",
       "1                  0.005408                 0.012168  \n",
       "2                  0.012397                 0.024793  \n",
       "3                  0.027778                 0.111111  \n",
       "4                  0.073248                 0.162420  "
      ]
     },
     "execution_count": 63,
     "metadata": {},
     "output_type": "execute_result"
    }
   ],
   "source": [
    "tasks = tasks.pivot(index='id', columns='ДлительностьПросрочки', values=['Доля_выполненных_задач']).reset_index()\n",
    "tasks.columns = ['id', 'Доля_задач_без_нарушения', 'Доля_задач_просрок_30', 'Доля_задач_просрок_до_30', 'Доля_задач_просрок_до_7']\n",
    "tasks.head()"
   ]
  },
  {
   "cell_type": "code",
   "execution_count": 64,
   "metadata": {},
   "outputs": [
    {
     "data": {
      "text/html": [
       "<div>\n",
       "<style scoped>\n",
       "    .dataframe tbody tr th:only-of-type {\n",
       "        vertical-align: middle;\n",
       "    }\n",
       "\n",
       "    .dataframe tbody tr th {\n",
       "        vertical-align: top;\n",
       "    }\n",
       "\n",
       "    .dataframe thead th {\n",
       "        text-align: right;\n",
       "    }\n",
       "</style>\n",
       "<table border=\"1\" class=\"dataframe\">\n",
       "  <thead>\n",
       "    <tr style=\"text-align: right;\">\n",
       "      <th></th>\n",
       "      <th>id</th>\n",
       "      <th>Доля_задач_без_нарушения</th>\n",
       "      <th>Доля_задач_просрок_30</th>\n",
       "      <th>Доля_задач_просрок_до_30</th>\n",
       "      <th>Доля_задач_просрок_до_7</th>\n",
       "    </tr>\n",
       "  </thead>\n",
       "  <tbody>\n",
       "    <tr>\n",
       "      <th>0</th>\n",
       "      <td>ОРГ1-00004</td>\n",
       "      <td>3</td>\n",
       "      <td>1</td>\n",
       "      <td>1</td>\n",
       "      <td>2</td>\n",
       "    </tr>\n",
       "    <tr>\n",
       "      <th>1</th>\n",
       "      <td>ОРГ1-00005</td>\n",
       "      <td>4</td>\n",
       "      <td>1</td>\n",
       "      <td>1</td>\n",
       "      <td>1</td>\n",
       "    </tr>\n",
       "    <tr>\n",
       "      <th>2</th>\n",
       "      <td>ОРГ1-00028</td>\n",
       "      <td>4</td>\n",
       "      <td>NaN</td>\n",
       "      <td>1</td>\n",
       "      <td>1</td>\n",
       "    </tr>\n",
       "    <tr>\n",
       "      <th>3</th>\n",
       "      <td>ОРГ1-00030</td>\n",
       "      <td>3</td>\n",
       "      <td>NaN</td>\n",
       "      <td>2</td>\n",
       "      <td>3</td>\n",
       "    </tr>\n",
       "    <tr>\n",
       "      <th>4</th>\n",
       "      <td>ОРГ1-00044</td>\n",
       "      <td>2</td>\n",
       "      <td>2</td>\n",
       "      <td>3</td>\n",
       "      <td>3</td>\n",
       "    </tr>\n",
       "  </tbody>\n",
       "</table>\n",
       "</div>"
      ],
      "text/plain": [
       "           id Доля_задач_без_нарушения Доля_задач_просрок_30  \\\n",
       "0  ОРГ1-00004                        3                     1   \n",
       "1  ОРГ1-00005                        4                     1   \n",
       "2  ОРГ1-00028                        4                   NaN   \n",
       "3  ОРГ1-00030                        3                   NaN   \n",
       "4  ОРГ1-00044                        2                     2   \n",
       "\n",
       "  Доля_задач_просрок_до_30 Доля_задач_просрок_до_7  \n",
       "0                        1                       2  \n",
       "1                        1                       1  \n",
       "2                        1                       1  \n",
       "3                        2                       3  \n",
       "4                        3                       3  "
      ]
     },
     "execution_count": 64,
     "metadata": {},
     "output_type": "execute_result"
    }
   ],
   "source": [
    "for col in tasks.columns[1:]:\n",
    "    bins = tasks[col].quantile([0, 0.25, 0.5, 0.75, 1])\n",
    "    tasks[col] = pd.cut(tasks[col], bins=bins, labels=[1, 2, 3, 4])\n",
    "tasks.head()"
   ]
  },
  {
   "cell_type": "code",
   "execution_count": 65,
   "metadata": {},
   "outputs": [],
   "source": [
    "df = df.merge(tasks, on='id', how='outer')"
   ]
  },
  {
   "cell_type": "markdown",
   "metadata": {},
   "source": [
    "#### Интервалы активности"
   ]
  },
  {
   "cell_type": "code",
   "execution_count": 66,
   "metadata": {},
   "outputs": [
    {
     "data": {
      "text/html": [
       "<div>\n",
       "<style scoped>\n",
       "    .dataframe tbody tr th:only-of-type {\n",
       "        vertical-align: middle;\n",
       "    }\n",
       "\n",
       "    .dataframe tbody tr th {\n",
       "        vertical-align: top;\n",
       "    }\n",
       "\n",
       "    .dataframe thead th {\n",
       "        text-align: right;\n",
       "    }\n",
       "</style>\n",
       "<table border=\"1\" class=\"dataframe\">\n",
       "  <thead>\n",
       "    <tr style=\"text-align: right;\">\n",
       "      <th></th>\n",
       "      <th>Вых/Будни</th>\n",
       "      <th>monitor_Time</th>\n",
       "      <th>startTime</th>\n",
       "      <th>id</th>\n",
       "    </tr>\n",
       "  </thead>\n",
       "  <tbody>\n",
       "    <tr>\n",
       "      <th>0</th>\n",
       "      <td>Будни</td>\n",
       "      <td>300</td>\n",
       "      <td>2021-08-16 00:00:00,000</td>\n",
       "      <td>ОРГ1-01402</td>\n",
       "    </tr>\n",
       "    <tr>\n",
       "      <th>1</th>\n",
       "      <td>Будни</td>\n",
       "      <td>300</td>\n",
       "      <td>2021-08-18 00:00:00,000</td>\n",
       "      <td>ОРГ1-01402</td>\n",
       "    </tr>\n",
       "    <tr>\n",
       "      <th>2</th>\n",
       "      <td>Будни</td>\n",
       "      <td>300</td>\n",
       "      <td>2021-08-19 00:00:00,000</td>\n",
       "      <td>ОРГ1-01402</td>\n",
       "    </tr>\n",
       "  </tbody>\n",
       "</table>\n",
       "</div>"
      ],
      "text/plain": [
       "  Вых/Будни  monitor_Time                startTime          id\n",
       "0     Будни           300  2021-08-16 00:00:00,000  ОРГ1-01402\n",
       "1     Будни           300  2021-08-18 00:00:00,000  ОРГ1-01402\n",
       "2     Будни           300  2021-08-19 00:00:00,000  ОРГ1-01402"
      ]
     },
     "execution_count": 66,
     "metadata": {},
     "output_type": "execute_result"
    }
   ],
   "source": [
    "timenet = pd.read_csv('TimenNetwork.csv')\n",
    "timenet.head(3)"
   ]
  },
  {
   "cell_type": "code",
   "execution_count": 67,
   "metadata": {},
   "outputs": [],
   "source": [
    "df = df.merge(train_df, on='id', how='outer')"
   ]
  },
  {
   "cell_type": "code",
   "execution_count": 68,
   "metadata": {},
   "outputs": [
    {
     "data": {
      "text/plain": [
       "id                             0\n",
       "Вид_образования              556\n",
       "Специальность                556\n",
       "Кол-во курсов                556\n",
       "Повышение_квалификации       556\n",
       "Calltime_from_буд           4337\n",
       "Calltime_from_вых           4915\n",
       "Calltime_to_буд             4412\n",
       "Calltime_to_вых             4918\n",
       "Nocalls_from_буд            4357\n",
       "Nocalls_from_вых            4970\n",
       "Nocalls_to_буд              4429\n",
       "Nocalls_to_вых              5008\n",
       "activeTime_mean_буд         3852\n",
       "activeTime_mean_вых         4124\n",
       "activeTime_median_буд       3852\n",
       "activeTime_median_вых       4321\n",
       "monitorTime_mean_буд        3852\n",
       "monitorTime_mean_вых        4045\n",
       "monitorTime_median_буд      3852\n",
       "monitorTime_median_вых      4045\n",
       "latetime_mean_буд           3768\n",
       "latetime_mean_вых           4197\n",
       "latecnt_mean_буд            3778\n",
       "latecnt_mean_вых            4093\n",
       "Длительность_дня_буд        4482\n",
       "Длительность_дня_вых        5238\n",
       "Доля_задач_без_нарушения    4157\n",
       "Доля_задач_просрок_30       4643\n",
       "Доля_задач_просрок_до_30    4505\n",
       "Доля_задач_просрок_до_7     4389\n",
       "type                        4794\n",
       "dtype: int64"
      ]
     },
     "execution_count": 68,
     "metadata": {},
     "output_type": "execute_result"
    }
   ],
   "source": [
    "df.isna().sum()"
   ]
  },
  {
   "cell_type": "code",
   "execution_count": 69,
   "metadata": {},
   "outputs": [],
   "source": [
    "df['Вид_образования'] = df['Вид_образования'].astype('str')\n",
    "df['Специальность'] = df['Специальность'].astype('str')"
   ]
  },
  {
   "cell_type": "code",
   "execution_count": 70,
   "metadata": {},
   "outputs": [],
   "source": [
    "for col in ['Calltime_from_буд', 'Calltime_from_вых',\n",
    "       'Calltime_to_буд', 'Calltime_to_вых', 'Nocalls_from_буд',\n",
    "       'Nocalls_from_вых', 'Nocalls_to_буд', 'Nocalls_to_вых',\n",
    "       'activeTime_mean_буд', 'activeTime_mean_вых', 'activeTime_median_буд',\n",
    "       'activeTime_median_вых', 'monitorTime_mean_буд', 'monitorTime_mean_вых',\n",
    "       'monitorTime_median_буд', 'monitorTime_median_вых', 'latetime_mean_буд',\n",
    "       'latetime_mean_вых', 'latecnt_mean_буд', 'latecnt_mean_вых',\n",
    "       'Длительность_дня_буд', 'Длительность_дня_вых',\n",
    "       'Доля_задач_без_нарушения', 'Доля_задач_просрок_30',\n",
    "       'Доля_задач_просрок_до_30', 'Доля_задач_просрок_до_7']:\n",
    "    df[col] = df[col].astype('str')"
   ]
  },
  {
   "cell_type": "code",
   "execution_count": 71,
   "metadata": {},
   "outputs": [
    {
     "data": {
      "text/plain": [
       "(5344, 32)"
      ]
     },
     "execution_count": 71,
     "metadata": {},
     "output_type": "execute_result"
    }
   ],
   "source": [
    "df.shape"
   ]
  },
  {
   "cell_type": "code",
   "execution_count": 72,
   "metadata": {},
   "outputs": [],
   "source": [
    "train_df = df[df['type'].notna()]"
   ]
  },
  {
   "cell_type": "code",
   "execution_count": 73,
   "metadata": {},
   "outputs": [
    {
     "data": {
      "text/plain": [
       "id                           0\n",
       "Вид_образования              0\n",
       "Специальность                0\n",
       "Кол-во курсов               71\n",
       "Повышение_квалификации      71\n",
       "Calltime_from_буд            0\n",
       "Calltime_from_вых            0\n",
       "Calltime_to_буд              0\n",
       "Calltime_to_вых              0\n",
       "Nocalls_from_буд             0\n",
       "Nocalls_from_вых             0\n",
       "Nocalls_to_буд               0\n",
       "Nocalls_to_вых               0\n",
       "activeTime_mean_буд          0\n",
       "activeTime_mean_вых          0\n",
       "activeTime_median_буд        0\n",
       "activeTime_median_вых        0\n",
       "monitorTime_mean_буд         0\n",
       "monitorTime_mean_вых         0\n",
       "monitorTime_median_буд       0\n",
       "monitorTime_median_вых       0\n",
       "latetime_mean_буд            0\n",
       "latetime_mean_вых            0\n",
       "latecnt_mean_буд             0\n",
       "latecnt_mean_вых             0\n",
       "Длительность_дня_буд         0\n",
       "Длительность_дня_вых         0\n",
       "Доля_задач_без_нарушения     0\n",
       "Доля_задач_просрок_30        0\n",
       "Доля_задач_просрок_до_30     0\n",
       "Доля_задач_просрок_до_7      0\n",
       "type                         0\n",
       "dtype: int64"
      ]
     },
     "execution_count": 73,
     "metadata": {},
     "output_type": "execute_result"
    }
   ],
   "source": [
    "train_df.isna().sum()"
   ]
  },
  {
   "cell_type": "markdown",
   "metadata": {
    "id": "4cxnT51gu5fJ"
   },
   "source": [
    "# Посмотрим на распределение целевой переменной"
   ]
  },
  {
   "cell_type": "code",
   "execution_count": 74,
   "metadata": {
    "colab": {
     "base_uri": "https://localhost:8080/",
     "height": 313
    },
    "id": "205eCTRPu3Au",
    "outputId": "190a476b-9204-46e8-835d-419c8c80bceb"
   },
   "outputs": [
    {
     "data": {
      "text/plain": [
       "Text(0.5, 1.0, 'Распределение предсказываемой величины')"
      ]
     },
     "execution_count": 74,
     "metadata": {},
     "output_type": "execute_result"
    },
    {
     "data": {
      "image/png": "[encoded data removed]",
      "text/plain": [
       "<Figure size 576x432 with 1 Axes>"
      ]
     },
     "metadata": {
      "needs_background": "light"
     },
     "output_type": "display_data"
    }
   ],
   "source": [
    "plt.figure(figsize=(8,6))\n",
    "sns.countplot(x=\"type\" , data=df).set_title('Распределение предсказываемой величины')"
   ]
  },
  {
   "cell_type": "code",
   "execution_count": 75,
   "metadata": {},
   "outputs": [],
   "source": [
    "X = train_df.drop(columns='type')\n",
    "y = train_df['type']"
   ]
  },
  {
   "cell_type": "markdown",
   "metadata": {},
   "source": [
    "Как видим, распределение классов весьма неравномерно, это необходимо учесть для при обучении модели"
   ]
  },
  {
   "cell_type": "code",
   "execution_count": 76,
   "metadata": {},
   "outputs": [
    {
     "data": {
      "text/plain": [
       "{0.0: 0.8986928104575164,\n",
       " 1.0: 1.8581081081081081,\n",
       " 2.0: 0.46140939597315433,\n",
       " 3.0: 5.5}"
      ]
     },
     "execution_count": 76,
     "metadata": {},
     "output_type": "execute_result"
    }
   ],
   "source": [
    "from sklearn.utils.class_weight import compute_class_weight\n",
    "classes = np.unique(train_df['type'])\n",
    "weights = compute_class_weight(class_weight='balanced', classes=classes, y=y)\n",
    "class_weights = dict(zip(classes, weights))\n",
    "class_weights"
   ]
  },
  {
   "cell_type": "markdown",
   "metadata": {},
   "source": [
    "## Подготовим датасет к обучению модели"
   ]
  },
  {
   "cell_type": "code",
   "execution_count": 78,
   "metadata": {},
   "outputs": [
    {
     "data": {
      "text/html": [
       "<div>\n",
       "<style scoped>\n",
       "    .dataframe tbody tr th:only-of-type {\n",
       "        vertical-align: middle;\n",
       "    }\n",
       "\n",
       "    .dataframe tbody tr th {\n",
       "        vertical-align: top;\n",
       "    }\n",
       "\n",
       "    .dataframe thead th {\n",
       "        text-align: right;\n",
       "    }\n",
       "</style>\n",
       "<table border=\"1\" class=\"dataframe\">\n",
       "  <thead>\n",
       "    <tr style=\"text-align: right;\">\n",
       "      <th></th>\n",
       "      <th>id</th>\n",
       "      <th>Вид_образования</th>\n",
       "      <th>Специальность</th>\n",
       "      <th>Кол-во курсов</th>\n",
       "      <th>Повышение_квалификации</th>\n",
       "      <th>Calltime_from_буд</th>\n",
       "      <th>Calltime_from_вых</th>\n",
       "      <th>Calltime_to_буд</th>\n",
       "      <th>Calltime_to_вых</th>\n",
       "      <th>Nocalls_from_буд</th>\n",
       "      <th>...</th>\n",
       "      <th>latetime_mean_буд</th>\n",
       "      <th>latetime_mean_вых</th>\n",
       "      <th>latecnt_mean_буд</th>\n",
       "      <th>latecnt_mean_вых</th>\n",
       "      <th>Длительность_дня_буд</th>\n",
       "      <th>Длительность_дня_вых</th>\n",
       "      <th>Доля_задач_без_нарушения</th>\n",
       "      <th>Доля_задач_просрок_30</th>\n",
       "      <th>Доля_задач_просрок_до_30</th>\n",
       "      <th>Доля_задач_просрок_до_7</th>\n",
       "    </tr>\n",
       "  </thead>\n",
       "  <tbody>\n",
       "    <tr>\n",
       "      <th>10</th>\n",
       "      <td>ОРГ1-00057</td>\n",
       "      <td>повышен высш образован бакалавриат квалификац</td>\n",
       "      <td>производств предприят прочност оборудован маши...</td>\n",
       "      <td>4.0</td>\n",
       "      <td>1.0</td>\n",
       "      <td>2</td>\n",
       "      <td>nan</td>\n",
       "      <td>2</td>\n",
       "      <td>nan</td>\n",
       "      <td>2</td>\n",
       "      <td>...</td>\n",
       "      <td>1</td>\n",
       "      <td>3</td>\n",
       "      <td>1</td>\n",
       "      <td>3</td>\n",
       "      <td>4</td>\n",
       "      <td>nan</td>\n",
       "      <td>3</td>\n",
       "      <td>1</td>\n",
       "      <td>nan</td>\n",
       "      <td>2</td>\n",
       "    </tr>\n",
       "    <tr>\n",
       "      <th>15</th>\n",
       "      <td>ОРГ1-00081</td>\n",
       "      <td>образован высш</td>\n",
       "      <td>производств процесс автоматизац технологическ ...</td>\n",
       "      <td>1.0</td>\n",
       "      <td>0.0</td>\n",
       "      <td>nan</td>\n",
       "      <td>nan</td>\n",
       "      <td>nan</td>\n",
       "      <td>nan</td>\n",
       "      <td>nan</td>\n",
       "      <td>...</td>\n",
       "      <td>nan</td>\n",
       "      <td>nan</td>\n",
       "      <td>nan</td>\n",
       "      <td>nan</td>\n",
       "      <td>nan</td>\n",
       "      <td>nan</td>\n",
       "      <td>nan</td>\n",
       "      <td>nan</td>\n",
       "      <td>nan</td>\n",
       "      <td>nan</td>\n",
       "    </tr>\n",
       "    <tr>\n",
       "      <th>16</th>\n",
       "      <td>ОРГ1-00085</td>\n",
       "      <td>образован повышен высш квалификац</td>\n",
       "      <td>конструктивн решен оборудован старт нефтегазоп...</td>\n",
       "      <td>4.0</td>\n",
       "      <td>1.0</td>\n",
       "      <td>3</td>\n",
       "      <td>1</td>\n",
       "      <td>3</td>\n",
       "      <td>2</td>\n",
       "      <td>4</td>\n",
       "      <td>...</td>\n",
       "      <td>2</td>\n",
       "      <td>3</td>\n",
       "      <td>1</td>\n",
       "      <td>3</td>\n",
       "      <td>3</td>\n",
       "      <td>2</td>\n",
       "      <td>3</td>\n",
       "      <td>1</td>\n",
       "      <td>2</td>\n",
       "      <td>2</td>\n",
       "    </tr>\n",
       "    <tr>\n",
       "      <th>19</th>\n",
       "      <td>ОРГ1-00100</td>\n",
       "      <td>образован повышен высш квалификац</td>\n",
       "      <td>газов прочност оборудован нефтян промысл аппар...</td>\n",
       "      <td>2.0</td>\n",
       "      <td>1.0</td>\n",
       "      <td>1</td>\n",
       "      <td>nan</td>\n",
       "      <td>3</td>\n",
       "      <td>nan</td>\n",
       "      <td>1</td>\n",
       "      <td>...</td>\n",
       "      <td>2</td>\n",
       "      <td>nan</td>\n",
       "      <td>1</td>\n",
       "      <td>nan</td>\n",
       "      <td>4</td>\n",
       "      <td>4</td>\n",
       "      <td>4</td>\n",
       "      <td>nan</td>\n",
       "      <td>2</td>\n",
       "      <td>1</td>\n",
       "    </tr>\n",
       "    <tr>\n",
       "      <th>31</th>\n",
       "      <td>ОРГ1-00148</td>\n",
       "      <td>образован высш</td>\n",
       "      <td></td>\n",
       "      <td>1.0</td>\n",
       "      <td>0.0</td>\n",
       "      <td>2</td>\n",
       "      <td>nan</td>\n",
       "      <td>2</td>\n",
       "      <td>nan</td>\n",
       "      <td>2</td>\n",
       "      <td>...</td>\n",
       "      <td>3</td>\n",
       "      <td>4</td>\n",
       "      <td>2</td>\n",
       "      <td>3</td>\n",
       "      <td>2</td>\n",
       "      <td>nan</td>\n",
       "      <td>2</td>\n",
       "      <td>2</td>\n",
       "      <td>2</td>\n",
       "      <td>3</td>\n",
       "    </tr>\n",
       "  </tbody>\n",
       "</table>\n",
       "<p>5 rows × 31 columns</p>\n",
       "</div>"
      ],
      "text/plain": [
       "            id                                Вид_образования  \\\n",
       "10  ОРГ1-00057  повышен высш образован бакалавриат квалификац   \n",
       "15  ОРГ1-00081                                 образован высш   \n",
       "16  ОРГ1-00085              образован повышен высш квалификац   \n",
       "19  ОРГ1-00100              образован повышен высш квалификац   \n",
       "31  ОРГ1-00148                                 образован высш   \n",
       "\n",
       "                                        Специальность  Кол-во курсов  \\\n",
       "10  производств предприят прочност оборудован маши...            4.0   \n",
       "15  производств процесс автоматизац технологическ ...            1.0   \n",
       "16  конструктивн решен оборудован старт нефтегазоп...            4.0   \n",
       "19  газов прочност оборудован нефтян промысл аппар...            2.0   \n",
       "31                                                               1.0   \n",
       "\n",
       "    Повышение_квалификации Calltime_from_буд Calltime_from_вых  \\\n",
       "10                     1.0                 2               nan   \n",
       "15                     0.0               nan               nan   \n",
       "16                     1.0                 3                 1   \n",
       "19                     1.0                 1               nan   \n",
       "31                     0.0                 2               nan   \n",
       "\n",
       "   Calltime_to_буд Calltime_to_вых Nocalls_from_буд  ... latetime_mean_буд  \\\n",
       "10               2             nan                2  ...                 1   \n",
       "15             nan             nan              nan  ...               nan   \n",
       "16               3               2                4  ...                 2   \n",
       "19               3             nan                1  ...                 2   \n",
       "31               2             nan                2  ...                 3   \n",
       "\n",
       "   latetime_mean_вых latecnt_mean_буд latecnt_mean_вых Длительность_дня_буд  \\\n",
       "10                 3                1                3                    4   \n",
       "15               nan              nan              nan                  nan   \n",
       "16                 3                1                3                    3   \n",
       "19               nan                1              nan                    4   \n",
       "31                 4                2                3                    2   \n",
       "\n",
       "   Длительность_дня_вых Доля_задач_без_нарушения Доля_задач_просрок_30  \\\n",
       "10                  nan                        3                     1   \n",
       "15                  nan                      nan                   nan   \n",
       "16                    2                        3                     1   \n",
       "19                    4                        4                   nan   \n",
       "31                  nan                        2                     2   \n",
       "\n",
       "   Доля_задач_просрок_до_30 Доля_задач_просрок_до_7  \n",
       "10                      nan                       2  \n",
       "15                      nan                     nan  \n",
       "16                        2                       2  \n",
       "19                        2                       1  \n",
       "31                        2                       3  \n",
       "\n",
       "[5 rows x 31 columns]"
      ]
     },
     "execution_count": 78,
     "metadata": {},
     "output_type": "execute_result"
    }
   ],
   "source": [
    "X.head()"
   ]
  },
  {
   "cell_type": "markdown",
   "metadata": {
    "id": "VLOa56f5zfUg"
   },
   "source": [
    "## Выделим выборки"
   ]
  },
  {
   "cell_type": "code",
   "execution_count": 79,
   "metadata": {
    "id": "E-LfoARf2WGZ"
   },
   "outputs": [],
   "source": [
    "random_state = 42\n",
    "\n",
    "X_train, X_val, y_train, y_val = train_test_split(X, y, test_size=0.2, random_state=random_state)"
   ]
  },
  {
   "cell_type": "markdown",
   "metadata": {
    "id": "X_HOvpXy2e3S"
   },
   "source": [
    "## Обучение модели"
   ]
  },
  {
   "cell_type": "markdown",
   "metadata": {},
   "source": [
    "Для обучения модели в catboost выделим категориальные и текстовые признаки"
   ]
  },
  {
   "cell_type": "code",
   "execution_count": 80,
   "metadata": {},
   "outputs": [
    {
     "data": {
      "text/plain": [
       "Index(['id', 'Вид_образования', 'Специальность', 'Кол-во курсов',\n",
       "       'Повышение_квалификации', 'Calltime_from_буд', 'Calltime_from_вых',\n",
       "       'Calltime_to_буд', 'Calltime_to_вых', 'Nocalls_from_буд',\n",
       "       'Nocalls_from_вых', 'Nocalls_to_буд', 'Nocalls_to_вых',\n",
       "       'activeTime_mean_буд', 'activeTime_mean_вых', 'activeTime_median_буд',\n",
       "       'activeTime_median_вых', 'monitorTime_mean_буд', 'monitorTime_mean_вых',\n",
       "       'monitorTime_median_буд', 'monitorTime_median_вых', 'latetime_mean_буд',\n",
       "       'latetime_mean_вых', 'latecnt_mean_буд', 'latecnt_mean_вых',\n",
       "       'Длительность_дня_буд', 'Длительность_дня_вых',\n",
       "       'Доля_задач_без_нарушения', 'Доля_задач_просрок_30',\n",
       "       'Доля_задач_просрок_до_30', 'Доля_задач_просрок_до_7'],\n",
       "      dtype='object')"
      ]
     },
     "execution_count": 80,
     "metadata": {},
     "output_type": "execute_result"
    }
   ],
   "source": [
    "X.columns"
   ]
  },
  {
   "cell_type": "code",
   "execution_count": 81,
   "metadata": {},
   "outputs": [],
   "source": [
    "text_features = ['Вид_образования', 'Специальность']\n",
    "cat_features = ['id', 'Calltime_from_буд', 'Calltime_from_вых',\n",
    "       'Calltime_to_буд', 'Calltime_to_вых', 'Nocalls_from_буд',\n",
    "       'Nocalls_from_вых', 'Nocalls_to_буд', 'Nocalls_to_вых',\n",
    "       'activeTime_mean_буд', 'activeTime_mean_вых', 'activeTime_median_буд',\n",
    "       'activeTime_median_вых', 'monitorTime_mean_буд', 'monitorTime_mean_вых',\n",
    "       'monitorTime_median_буд', 'monitorTime_median_вых', 'latetime_mean_буд',\n",
    "       'latetime_mean_вых', 'latecnt_mean_буд', 'latecnt_mean_вых',\n",
    "       'Длительность_дня_буд', 'Длительность_дня_вых',\n",
    "       'Доля_задач_без_нарушения', 'Доля_задач_просрок_30',\n",
    "       'Доля_задач_просрок_до_30', 'Доля_задач_просрок_до_7']\n",
    "\n",
    "model = CatBoostClassifier(learning_rate=0.1,\n",
    "                           eval_metric='AUC',\n",
    "                           random_state=random_state,\n",
    "                           iterations=600,\n",
    "                           loss_function='MultiClassOneVsAll', \n",
    "                           class_weights=class_weights,\n",
    "                           bootstrap_type='Bernoulli',\n",
    "                           cat_features=cat_features,\n",
    "                           text_features=text_features,\n",
    "                           tokenizers=[\n",
    "                                        {\n",
    "                                            'tokenizer_id': 'Sense',\n",
    "                                            'separator_type': 'BySense',\n",
    "                                            'lowercasing': 'True',\n",
    "                                            'token_types':['Word', 'Number', 'SentenceBreak'],\n",
    "                                            'sub_tokens_policy':'SeveralTokens'\n",
    "                                        }      \n",
    "                                    ],\n",
    "                                    dictionaries = [\n",
    "                                        {\n",
    "                                            'dictionary_id': 'Word',\n",
    "                                            'max_dictionary_size': '50000'\n",
    "                                        }\n",
    "                                    ],\n",
    "                                    feature_calcers = [\n",
    "                                        'BoW:top_tokens_count=10000'\n",
    "                                    ]\n",
    "                           ,\n",
    "                           verbose=200)"
   ]
  },
  {
   "cell_type": "code",
   "execution_count": 82,
   "metadata": {},
   "outputs": [
    {
     "name": "stdout",
     "output_type": "stream",
     "text": [
      "{'iterations': 600, 'learning_rate': 0.1, 'loss_function': 'MultiClassOneVsAll', 'verbose': 200, 'class_weights': {0.0: 0.8986928104575164, 1.0: 1.8581081081081081, 2.0: 0.46140939597315433, 3.0: 5.5}, 'eval_metric': 'AUC', 'bootstrap_type': 'Bernoulli', 'random_state': 42, 'cat_features': ['id', 'Calltime_from_буд', 'Calltime_from_вых', 'Calltime_to_буд', 'Calltime_to_вых', 'Nocalls_from_буд', 'Nocalls_from_вых', 'Nocalls_to_буд', 'Nocalls_to_вых', 'activeTime_mean_буд', 'activeTime_mean_вых', 'activeTime_median_буд', 'activeTime_median_вых', 'monitorTime_mean_буд', 'monitorTime_mean_вых', 'monitorTime_median_буд', 'monitorTime_median_вых', 'latetime_mean_буд', 'latetime_mean_вых', 'latecnt_mean_буд', 'latecnt_mean_вых', 'Длительность_дня_буд', 'Длительность_дня_вых', 'Доля_задач_без_нарушения', 'Доля_задач_просрок_30', 'Доля_задач_просрок_до_30', 'Доля_задач_просрок_до_7'], 'text_features': ['Вид_образования', 'Специальность'], 'tokenizers': [{'tokenizer_id': 'Sense', 'separator_type': 'BySense', 'lowercasing': 'True', 'token_types': ['Word', 'Number', 'SentenceBreak'], 'sub_tokens_policy': 'SeveralTokens'}], 'dictionaries': [{'dictionary_id': 'Word', 'max_dictionary_size': '50000'}], 'feature_calcers': ['BoW:top_tokens_count=10000']}\n"
     ]
    }
   ],
   "source": [
    "print(model.get_params())"
   ]
  },
  {
   "cell_type": "code",
   "execution_count": 84,
   "metadata": {},
   "outputs": [
    {
     "name": "stdout",
     "output_type": "stream",
     "text": [
      "0:\ttest: 0.5000000\tbest: 0.5000000 (0)\ttotal: 15.3ms\tremaining: 9.15s\n",
      "200:\ttest: 0.7574006\tbest: 0.7791321 (140)\ttotal: 24.8s\tremaining: 49.2s\n",
      "400:\ttest: 0.7398003\tbest: 0.7791321 (140)\ttotal: 49.9s\tremaining: 24.7s\n",
      "599:\ttest: 0.7325324\tbest: 0.7791321 (140)\ttotal: 1m 15s\tremaining: 0us\n",
      "\n",
      "bestTest = 0.7791321052\n",
      "bestIteration = 140\n",
      "\n",
      "Shrink model to first 141 iterations.\n"
     ]
    },
    {
     "data": {
      "text/plain": [
       "<catboost.core.CatBoostClassifier at 0x25838f407f0>"
      ]
     },
     "execution_count": 84,
     "metadata": {},
     "output_type": "execute_result"
    }
   ],
   "source": [
    "model.fit(X_train, y_train,\n",
    "          eval_set=(X_val, y_val))"
   ]
  },
  {
   "cell_type": "code",
   "execution_count": 85,
   "metadata": {},
   "outputs": [
    {
     "data": {
      "text/html": [
       "<div>\n",
       "<style scoped>\n",
       "    .dataframe tbody tr th:only-of-type {\n",
       "        vertical-align: middle;\n",
       "    }\n",
       "\n",
       "    .dataframe tbody tr th {\n",
       "        vertical-align: top;\n",
       "    }\n",
       "\n",
       "    .dataframe thead th {\n",
       "        text-align: right;\n",
       "    }\n",
       "</style>\n",
       "<table border=\"1\" class=\"dataframe\">\n",
       "  <thead>\n",
       "    <tr style=\"text-align: right;\">\n",
       "      <th></th>\n",
       "      <th>Feature Id</th>\n",
       "      <th>Importances</th>\n",
       "    </tr>\n",
       "  </thead>\n",
       "  <tbody>\n",
       "    <tr>\n",
       "      <th>0</th>\n",
       "      <td>Calltime_from_буд</td>\n",
       "      <td>9.978680</td>\n",
       "    </tr>\n",
       "    <tr>\n",
       "      <th>1</th>\n",
       "      <td>Доля_задач_без_нарушения</td>\n",
       "      <td>6.050654</td>\n",
       "    </tr>\n",
       "    <tr>\n",
       "      <th>2</th>\n",
       "      <td>latecnt_mean_вых</td>\n",
       "      <td>5.787774</td>\n",
       "    </tr>\n",
       "    <tr>\n",
       "      <th>3</th>\n",
       "      <td>Nocalls_to_буд</td>\n",
       "      <td>5.467504</td>\n",
       "    </tr>\n",
       "    <tr>\n",
       "      <th>4</th>\n",
       "      <td>monitorTime_mean_вых</td>\n",
       "      <td>5.066143</td>\n",
       "    </tr>\n",
       "    <tr>\n",
       "      <th>5</th>\n",
       "      <td>Длительность_дня_буд</td>\n",
       "      <td>4.831471</td>\n",
       "    </tr>\n",
       "    <tr>\n",
       "      <th>6</th>\n",
       "      <td>activeTime_median_буд</td>\n",
       "      <td>4.818147</td>\n",
       "    </tr>\n",
       "    <tr>\n",
       "      <th>7</th>\n",
       "      <td>Nocalls_from_буд</td>\n",
       "      <td>4.581468</td>\n",
       "    </tr>\n",
       "    <tr>\n",
       "      <th>8</th>\n",
       "      <td>monitorTime_median_вых</td>\n",
       "      <td>4.118731</td>\n",
       "    </tr>\n",
       "    <tr>\n",
       "      <th>9</th>\n",
       "      <td>latetime_mean_вых</td>\n",
       "      <td>3.753078</td>\n",
       "    </tr>\n",
       "    <tr>\n",
       "      <th>10</th>\n",
       "      <td>activeTime_median_вых</td>\n",
       "      <td>3.718221</td>\n",
       "    </tr>\n",
       "    <tr>\n",
       "      <th>11</th>\n",
       "      <td>latecnt_mean_буд</td>\n",
       "      <td>3.544439</td>\n",
       "    </tr>\n",
       "    <tr>\n",
       "      <th>12</th>\n",
       "      <td>Доля_задач_просрок_до_30</td>\n",
       "      <td>3.535229</td>\n",
       "    </tr>\n",
       "    <tr>\n",
       "      <th>13</th>\n",
       "      <td>Calltime_to_буд</td>\n",
       "      <td>3.473173</td>\n",
       "    </tr>\n",
       "    <tr>\n",
       "      <th>14</th>\n",
       "      <td>activeTime_mean_буд</td>\n",
       "      <td>3.344534</td>\n",
       "    </tr>\n",
       "    <tr>\n",
       "      <th>15</th>\n",
       "      <td>monitorTime_mean_буд</td>\n",
       "      <td>3.244167</td>\n",
       "    </tr>\n",
       "    <tr>\n",
       "      <th>16</th>\n",
       "      <td>latetime_mean_буд</td>\n",
       "      <td>3.065615</td>\n",
       "    </tr>\n",
       "    <tr>\n",
       "      <th>17</th>\n",
       "      <td>Доля_задач_просрок_30</td>\n",
       "      <td>2.996200</td>\n",
       "    </tr>\n",
       "    <tr>\n",
       "      <th>18</th>\n",
       "      <td>monitorTime_median_буд</td>\n",
       "      <td>2.943633</td>\n",
       "    </tr>\n",
       "    <tr>\n",
       "      <th>19</th>\n",
       "      <td>activeTime_mean_вых</td>\n",
       "      <td>2.312068</td>\n",
       "    </tr>\n",
       "    <tr>\n",
       "      <th>20</th>\n",
       "      <td>Доля_задач_просрок_до_7</td>\n",
       "      <td>2.147614</td>\n",
       "    </tr>\n",
       "    <tr>\n",
       "      <th>21</th>\n",
       "      <td>Calltime_to_вых</td>\n",
       "      <td>2.011882</td>\n",
       "    </tr>\n",
       "    <tr>\n",
       "      <th>22</th>\n",
       "      <td>Calltime_from_вых</td>\n",
       "      <td>1.951409</td>\n",
       "    </tr>\n",
       "    <tr>\n",
       "      <th>23</th>\n",
       "      <td>Кол-во курсов</td>\n",
       "      <td>1.939640</td>\n",
       "    </tr>\n",
       "    <tr>\n",
       "      <th>24</th>\n",
       "      <td>Длительность_дня_вых</td>\n",
       "      <td>1.739868</td>\n",
       "    </tr>\n",
       "    <tr>\n",
       "      <th>25</th>\n",
       "      <td>Nocalls_from_вых</td>\n",
       "      <td>1.178550</td>\n",
       "    </tr>\n",
       "    <tr>\n",
       "      <th>26</th>\n",
       "      <td>Вид_образования</td>\n",
       "      <td>0.757689</td>\n",
       "    </tr>\n",
       "    <tr>\n",
       "      <th>27</th>\n",
       "      <td>Nocalls_to_вых</td>\n",
       "      <td>0.729260</td>\n",
       "    </tr>\n",
       "    <tr>\n",
       "      <th>28</th>\n",
       "      <td>Повышение_квалификации</td>\n",
       "      <td>0.660965</td>\n",
       "    </tr>\n",
       "    <tr>\n",
       "      <th>29</th>\n",
       "      <td>Специальность</td>\n",
       "      <td>0.252194</td>\n",
       "    </tr>\n",
       "    <tr>\n",
       "      <th>30</th>\n",
       "      <td>id</td>\n",
       "      <td>0.000000</td>\n",
       "    </tr>\n",
       "  </tbody>\n",
       "</table>\n",
       "</div>"
      ],
      "text/plain": [
       "                  Feature Id  Importances\n",
       "0          Calltime_from_буд     9.978680\n",
       "1   Доля_задач_без_нарушения     6.050654\n",
       "2           latecnt_mean_вых     5.787774\n",
       "3             Nocalls_to_буд     5.467504\n",
       "4       monitorTime_mean_вых     5.066143\n",
       "5       Длительность_дня_буд     4.831471\n",
       "6      activeTime_median_буд     4.818147\n",
       "7           Nocalls_from_буд     4.581468\n",
       "8     monitorTime_median_вых     4.118731\n",
       "9          latetime_mean_вых     3.753078\n",
       "10     activeTime_median_вых     3.718221\n",
       "11          latecnt_mean_буд     3.544439\n",
       "12  Доля_задач_просрок_до_30     3.535229\n",
       "13           Calltime_to_буд     3.473173\n",
       "14       activeTime_mean_буд     3.344534\n",
       "15      monitorTime_mean_буд     3.244167\n",
       "16         latetime_mean_буд     3.065615\n",
       "17     Доля_задач_просрок_30     2.996200\n",
       "18    monitorTime_median_буд     2.943633\n",
       "19       activeTime_mean_вых     2.312068\n",
       "20   Доля_задач_просрок_до_7     2.147614\n",
       "21           Calltime_to_вых     2.011882\n",
       "22         Calltime_from_вых     1.951409\n",
       "23             Кол-во курсов     1.939640\n",
       "24      Длительность_дня_вых     1.739868\n",
       "25          Nocalls_from_вых     1.178550\n",
       "26           Вид_образования     0.757689\n",
       "27            Nocalls_to_вых     0.729260\n",
       "28    Повышение_квалификации     0.660965\n",
       "29             Специальность     0.252194\n",
       "30                        id     0.000000"
      ]
     },
     "execution_count": 85,
     "metadata": {},
     "output_type": "execute_result"
    }
   ],
   "source": [
    "fi = model.get_feature_importance(prettified=True)\n",
    "fi"
   ]
  },
  {
   "cell_type": "markdown",
   "metadata": {
    "id": "aqxTaUVm2iiP"
   },
   "source": [
    "## Оценка точности"
   ]
  },
  {
   "cell_type": "code",
   "execution_count": 86,
   "metadata": {
    "colab": {
     "base_uri": "https://localhost:8080/"
    },
    "id": "Vz2JrMW32m3N",
    "outputId": "e4672e3d-479f-408e-c29d-edee4f5beffb"
   },
   "outputs": [
    {
     "data": {
      "text/plain": [
       "0.47468171296296297"
      ]
     },
     "execution_count": 86,
     "metadata": {},
     "output_type": "execute_result"
    }
   ],
   "source": [
    "test_pred = model.predict(X_val)\n",
    "recall_score(y_val, test_pred, average='macro', zero_division = 0)"
   ]
  },
  {
   "cell_type": "markdown",
   "metadata": {
    "id": "yjJp2a4dFmNJ"
   },
   "source": [
    "# Cоздание файла с ответом"
   ]
  },
  {
   "cell_type": "code",
   "execution_count": 87,
   "metadata": {
    "id": "-1HabuSpBbYS"
   },
   "outputs": [
    {
     "data": {
      "text/html": [
       "<div>\n",
       "<style scoped>\n",
       "    .dataframe tbody tr th:only-of-type {\n",
       "        vertical-align: middle;\n",
       "    }\n",
       "\n",
       "    .dataframe tbody tr th {\n",
       "        vertical-align: top;\n",
       "    }\n",
       "\n",
       "    .dataframe thead th {\n",
       "        text-align: right;\n",
       "    }\n",
       "</style>\n",
       "<table border=\"1\" class=\"dataframe\">\n",
       "  <thead>\n",
       "    <tr style=\"text-align: right;\">\n",
       "      <th></th>\n",
       "      <th>id</th>\n",
       "      <th>type</th>\n",
       "    </tr>\n",
       "  </thead>\n",
       "  <tbody>\n",
       "    <tr>\n",
       "      <th>0</th>\n",
       "      <td>ОРГ1-02649</td>\n",
       "      <td>0</td>\n",
       "    </tr>\n",
       "    <tr>\n",
       "      <th>1</th>\n",
       "      <td>ОРГ2-05929</td>\n",
       "      <td>0</td>\n",
       "    </tr>\n",
       "    <tr>\n",
       "      <th>2</th>\n",
       "      <td>ОРГ2-05859</td>\n",
       "      <td>0</td>\n",
       "    </tr>\n",
       "    <tr>\n",
       "      <th>3</th>\n",
       "      <td>ОРГ1-00279</td>\n",
       "      <td>0</td>\n",
       "    </tr>\n",
       "    <tr>\n",
       "      <th>4</th>\n",
       "      <td>ОРГ2-01613</td>\n",
       "      <td>0</td>\n",
       "    </tr>\n",
       "  </tbody>\n",
       "</table>\n",
       "</div>"
      ],
      "text/plain": [
       "           id  type\n",
       "0  ОРГ1-02649     0\n",
       "1  ОРГ2-05929     0\n",
       "2  ОРГ2-05859     0\n",
       "3  ОРГ1-00279     0\n",
       "4  ОРГ2-01613     0"
      ]
     },
     "execution_count": 87,
     "metadata": {},
     "output_type": "execute_result"
    }
   ],
   "source": [
    "df_test = pd.read_csv(\"test_dataset_test.csv\")\n",
    "df_test.head()"
   ]
  },
  {
   "cell_type": "code",
   "execution_count": 88,
   "metadata": {},
   "outputs": [],
   "source": [
    "test = df.merge(df_test[['id']], on='id', how='right')"
   ]
  },
  {
   "cell_type": "code",
   "execution_count": 89,
   "metadata": {},
   "outputs": [],
   "source": [
    "test_pred = model.predict(test.drop(columns='type'))"
   ]
  },
  {
   "cell_type": "code",
   "execution_count": 90,
   "metadata": {},
   "outputs": [
    {
     "data": {
      "text/html": [
       "<div>\n",
       "<style scoped>\n",
       "    .dataframe tbody tr th:only-of-type {\n",
       "        vertical-align: middle;\n",
       "    }\n",
       "\n",
       "    .dataframe tbody tr th {\n",
       "        vertical-align: top;\n",
       "    }\n",
       "\n",
       "    .dataframe thead th {\n",
       "        text-align: right;\n",
       "    }\n",
       "</style>\n",
       "<table border=\"1\" class=\"dataframe\">\n",
       "  <thead>\n",
       "    <tr style=\"text-align: right;\">\n",
       "      <th></th>\n",
       "      <th>id</th>\n",
       "      <th>type</th>\n",
       "    </tr>\n",
       "  </thead>\n",
       "  <tbody>\n",
       "    <tr>\n",
       "      <th>0</th>\n",
       "      <td>ОРГ1-02649</td>\n",
       "      <td>2.0</td>\n",
       "    </tr>\n",
       "    <tr>\n",
       "      <th>1</th>\n",
       "      <td>ОРГ2-05929</td>\n",
       "      <td>1.0</td>\n",
       "    </tr>\n",
       "    <tr>\n",
       "      <th>2</th>\n",
       "      <td>ОРГ2-05859</td>\n",
       "      <td>1.0</td>\n",
       "    </tr>\n",
       "    <tr>\n",
       "      <th>3</th>\n",
       "      <td>ОРГ1-00279</td>\n",
       "      <td>0.0</td>\n",
       "    </tr>\n",
       "  </tbody>\n",
       "</table>\n",
       "</div>"
      ],
      "text/plain": [
       "           id  type\n",
       "0  ОРГ1-02649   2.0\n",
       "1  ОРГ2-05929   1.0\n",
       "2  ОРГ2-05859   1.0\n",
       "3  ОРГ1-00279   0.0"
      ]
     },
     "execution_count": 90,
     "metadata": {},
     "output_type": "execute_result"
    }
   ],
   "source": [
    "df_test[\"type\"] = test_pred\n",
    "df_test.head(4)"
   ]
  },
  {
   "cell_type": "code",
   "execution_count": 91,
   "metadata": {},
   "outputs": [],
   "source": [
    "df_test.to_csv(\"submission.csv\", index=False)"
   ]
  },
  {
   "cell_type": "code",
   "execution_count": null,
   "metadata": {},
   "outputs": [],
   "source": []
  }
 ],
 "metadata": {
  "colab": {
   "name": "students_baseline.ipynb",
   "provenance": []
  },
  "kernelspec": {
   "display_name": "Python 3 (ipykernel)",
   "language": "python",
   "name": "python3"
  },
  "language_info": {
   "codemirror_mode": {
    "name": "ipython",
    "version": 3
   },
   "file_extension": ".py",
   "mimetype": "text/x-python",
   "name": "python",
   "nbconvert_exporter": "python",
   "pygments_lexer": "ipython3",
   "version": "3.9.12"
  }
 },
 "nbformat": 4,
 "nbformat_minor": 4
}
